{
 "cells": [
  {
   "cell_type": "markdown",
   "metadata": {},
   "source": [
    "# Arvin Veerappan Final Project"
   ]
  },
  {
   "cell_type": "markdown",
   "metadata": {},
   "source": [
    "### Introduction"
   ]
  },
  {
   "cell_type": "markdown",
   "metadata": {},
   "source": [
    "I am going to be testing whether investing in an portfolio of high average dividend returns over the past year (during the pandemic), with monthly rebalancing, would yield a \"winning\" investment strategy when compared to the VTI index. I would start from April 15, 2009, and go until April 15, 2021 to have 12 years of data, and see how this portfolio compares to the benchmark VTI portfolio. I am picking this particular strategy because I want to see how a portfolio of high dividend returns would measure up to the benchmark because although these companies might not be as high growth as tech companies, they are attractive to investors because of the dividends they offer. They are also not as volatile as the high growth tech sector and might offer a safer strategy than QQQ for example, but we will see how this stacks up once we conduct the backtest. Additionally, out of the subset of 500 firms in the market that I chose with the highest average dividend returns over the past year, I would want to pick the 50 firms with the lowest beta to counter against the tumultuous conditions of the market since COVID-19 began."
   ]
  },
  {
   "cell_type": "code",
   "execution_count": 1,
   "metadata": {},
   "outputs": [],
   "source": [
    "# Working with data:\n",
    "import numpy  as np                                   # For scientific computing.\n",
    "import pandas as pd                                   # Working with tables.\n",
    "\n",
    "# Downloading files:\n",
    "import requests, zipfile, io                          # To access websites.\n",
    "\n",
    "import os\n",
    "\n",
    "# Specific data providers:\n",
    "from tiingo import TiingoClient                       # Stock prices.\n",
    "import quandl                                         # Economic data, futures prices, ...\n",
    "\n",
    "# API keys:\n",
    "tiingo = TiingoClient({'api_key':'345f9b68c6ffee71bf7040a0ef988fc4ad262fc8'})\n",
    "quandl.ApiConfig.api_key = 'Qj6jvrPgZc_xU5z4ytMy'\n",
    "\n",
    "# Plotting:\n",
    "import matplotlib.pyplot as plt                        # Basic plot library.\n",
    "plt.style.use('ggplot')                                # Make plots look nice"
   ]
  },
  {
   "cell_type": "markdown",
   "metadata": {},
   "source": [
    "SEC Data Function:"
   ]
  },
  {
   "cell_type": "code",
   "execution_count": 2,
   "metadata": {},
   "outputs": [],
   "source": [
    "def ffill_values(item, dates):                                          \n",
    "    data = item.unstack('cik')\n",
    "    data = data.reindex(dates.union(data.index)).sort_index()           # Add specified dates to index.\n",
    "    filing_dates = pd.read_csv('data/sec/dates/filing_dates.csv', index_col='cik', parse_dates=['filed']).filed\n",
    "    last_filing_date_all_firms = filing_dates.max()                     # Most recent date where at least 1 firm filed.\n",
    "     \n",
    "    for cik in data.columns:                                            # Loop over all firms.\n",
    "        last_filing_date      = pd.Series(filing_dates[cik]).iloc[-1]   # Last date where this firm filed\n",
    "        days_since_last_filed = (last_filing_date_all_firms - last_filing_date).days\n",
    "        last_date_this_firm   = dates[-1] if days_since_last_filed < 120 else last_filing_date\n",
    "        data.loc[:last_date_this_firm, cik].ffill(inplace=True)         # Forward fill all the values.\n",
    "\n",
    "    return data.loc[dates]                                              # Return only specified dates.  "
   ]
  },
  {
   "cell_type": "markdown",
   "metadata": {},
   "source": [
    "Rebalance function:"
   ]
  },
  {
   "cell_type": "code",
   "execution_count": 3,
   "metadata": {},
   "outputs": [],
   "source": [
    "def get_rebalance_dates(frequency, start_date):\n",
    "    price = PRICE[PRICE.index>start_date]\n",
    "    group = getattr(price.index, frequency) \n",
    "    return price[:1].index.union(price.groupby([price.index.year, group]).tail(1).index)\n",
    "\n",
    "\n",
    "\n",
    "def run_backtest(frequency, backtest_start='1900-1-1'):   \n",
    "    \n",
    "    rebalance_dates = get_rebalance_dates(frequency, backtest_start) \n",
    "\n",
    "    portfolio_value = pd.Series(1,                        index=[rebalance_dates[0]])    \n",
    "    weights         = pd.DataFrame(columns=PRICE.columns, index=[rebalance_dates[0]])\n",
    "    trades          = pd.DataFrame(columns=PRICE.columns, index=[rebalance_dates[0]])\n",
    "\n",
    "    previous_positions = weights.iloc[0]\n",
    "        \n",
    "    for i in range(1, len(rebalance_dates)-1):\n",
    "        start_date = rebalance_dates[i]\n",
    "        end_date   = rebalance_dates[i+1]\n",
    "\n",
    "        cum_ret = RET[start_date:end_date][1:].add(1).cumprod()\n",
    "        \n",
    "        assets        = select_assets(start_date)               # Call \"select_assets()\"  function to get the assets.\n",
    "        start_weights = select_weights(start_date, assets)      # Call \"select_weights()\" function to get the weights\n",
    "            \n",
    "        new_positions = portfolio_value.iloc[-1] * start_weights   \n",
    "\n",
    "        start_to_end_positions = new_positions * cum_ret\n",
    "        start_to_end_value     = start_to_end_positions.sum('columns')\n",
    "\n",
    "        portfolio_value = portfolio_value.append(start_to_end_value) \n",
    "                \n",
    "        weights = weights.append(start_to_end_positions.div(start_to_end_value,'rows'))                 \n",
    "                \n",
    "        trades.loc[start_date] = new_positions - previous_positions \n",
    "        previous_positions     = start_to_end_positions.iloc[-1]      # Previous positions for the next rebalance round\n",
    "\n",
    "    return portfolio_value.pct_change(), weights, trades"
   ]
  },
  {
   "cell_type": "markdown",
   "metadata": {},
   "source": [
    "Select price, benchmark, and sales data"
   ]
  },
  {
   "cell_type": "code",
   "execution_count": 4,
   "metadata": {},
   "outputs": [],
   "source": [
    "sales = pd.read_csv('data/sec/items/Sales.csv',  parse_dates=['filed'], index_col=['cik','filed'])\n",
    "\n",
    "\n",
    "trading_days = pd.to_datetime( tiingo.get_dataframe('SPY','2009-4-15').index ).tz_convert(None)\n",
    "\n",
    "salesQ = ffill_values( sales.valueQ,  trading_days )\n",
    "salesA = ffill_values( sales.valueA,  trading_days )\n",
    "\n",
    "\n",
    "symbols = pd.read_csv('data/ticker_symbols/symbols.csv',index_col=0)\n",
    "\n",
    "SALESQ = salesQ.rename(columns=symbols.ticker)\n",
    "SALESA = salesA.rename(columns=symbols.ticker)\n",
    "\n",
    "PRICE  = pd.read_csv('data/tiingo/close.csv',    index_col='date', parse_dates=['date'])\n",
    "RET    = pd.read_csv('data/tiingo/adjClose.csv', index_col='date', parse_dates=['date']).pct_change()  \n",
    "VOLUME = pd.read_csv('data/tiingo/volume.csv',   index_col='date', parse_dates=['date'])\n",
    "DIVIDEND  = pd.read_csv('data/tiingo/divCash.csv',    index_col='date', parse_dates=['date']).pct_change()\n",
    "DOLLAR_VOLUME = VOLUME * PRICE\n",
    "\n",
    "vti = tiingo.get_dataframe(['VTI'], '1990-1-1', metric_name='adjClose')\n",
    "vti.index = pd.to_datetime(vti.index).tz_convert(None)\n",
    "vti_ret = vti.pct_change().VTI"
   ]
  },
  {
   "cell_type": "markdown",
   "metadata": {},
   "source": [
    "Now forward-fill the sales data to all trading days:"
   ]
  },
  {
   "cell_type": "code",
   "execution_count": 5,
   "metadata": {},
   "outputs": [],
   "source": [
    "def ffill_values(item, dates):                                          \n",
    "    data = item.unstack('cik')\n",
    "    data = data.reindex(dates.union(data.index)).sort_index()           # Add specified dates to index.\n",
    "    filing_dates = pd.read_csv('data/sec/dates/filing_dates.csv', index_col='cik', parse_dates=['filed']).filed\n",
    "    last_filing_date_all_firms = filing_dates.max()                     # Most recent date where at least 1 firm filed.\n",
    "     \n",
    "    for cik in data.columns:                                            # Loop over all firms.\n",
    "        last_filing_date      = pd.Series(filing_dates[cik]).iloc[-1]   # Last date where this firm filed\n",
    "        days_since_last_filed = (last_filing_date_all_firms - last_filing_date).days\n",
    "        last_date_this_firm   = dates[-1] if days_since_last_filed < 120 else last_filing_date\n",
    "        data.loc[:last_date_this_firm, cik].ffill(inplace=True)         # Forward fill all the values.\n",
    "\n",
    "    return data.loc[dates]                                              # Return only specified dates.   \n",
    "\n",
    "\n",
    "\n",
    "trading_days = pd.to_datetime( tiingo.get_dataframe('SPY','1900-1-1').index ).tz_convert(None)\n",
    "\n",
    "salesQ = ffill_values( sales.valueQ,  trading_days )\n",
    "salesA = ffill_values( sales.valueA,  trading_days )"
   ]
  },
  {
   "cell_type": "markdown",
   "metadata": {},
   "source": [
    "Now we need to change the column labels from CIKs to ticker symbols:"
   ]
  },
  {
   "cell_type": "code",
   "execution_count": 6,
   "metadata": {},
   "outputs": [],
   "source": [
    "symbols = pd.read_csv('data/ticker_symbols/symbols.csv',index_col=0)\n",
    "\n",
    "SALESQ = salesQ.rename(columns=symbols.ticker)\n",
    "SALESA = salesA.rename(columns=symbols.ticker)"
   ]
  },
  {
   "cell_type": "markdown",
   "metadata": {},
   "source": [
    "Backtest Function:"
   ]
  },
  {
   "cell_type": "code",
   "execution_count": 7,
   "metadata": {},
   "outputs": [],
   "source": [
    "def get_rebalance_dates(frequency, start_date):\n",
    "    price = PRICE[PRICE.index>start_date]\n",
    "    group = getattr(price.index, frequency) \n",
    "    return price[:1].index.union(price.groupby([price.index.year, group]).tail(1).index)\n",
    "\n",
    "\n",
    "\n",
    "def run_backtest(frequency, backtest_start='1900-1-1'):   \n",
    "    \n",
    "    rebalance_dates = get_rebalance_dates(frequency, backtest_start) \n",
    "\n",
    "    portfolio_value = pd.Series(1,                        index=[rebalance_dates[0]])    \n",
    "    weights         = pd.DataFrame(columns=PRICE.columns, index=[rebalance_dates[0]])\n",
    "    trades          = pd.DataFrame(columns=PRICE.columns, index=[rebalance_dates[0]])\n",
    "\n",
    "    previous_positions = weights.iloc[0]\n",
    "        \n",
    "    for i in range(1, len(rebalance_dates)-1):\n",
    "        start_date = rebalance_dates[i]\n",
    "        end_date   = rebalance_dates[i+1]\n",
    "\n",
    "        cum_ret = RET[start_date:end_date][1:].add(1).cumprod()\n",
    "        \n",
    "        assets        = select_assets(start_date)               # Call \"select_assets()\"  function to get the assets.\n",
    "        start_weights = select_weights(start_date, assets)      # Call \"select_weights()\" function to get the weights\n",
    "            \n",
    "        new_positions = portfolio_value.iloc[-1] * start_weights   \n",
    "\n",
    "        start_to_end_positions = new_positions * cum_ret\n",
    "        start_to_end_value     = start_to_end_positions.sum('columns')\n",
    "\n",
    "        portfolio_value = portfolio_value.append(start_to_end_value) \n",
    "                \n",
    "        weights = weights.append(start_to_end_positions.div(start_to_end_value,'rows'))                 \n",
    "                \n",
    "        trades.loc[start_date] = new_positions - previous_positions \n",
    "        previous_positions     = start_to_end_positions.iloc[-1]      # Previous positions for the next rebalance round\n",
    "\n",
    "    return portfolio_value.pct_change(), weights, trades"
   ]
  },
  {
   "cell_type": "markdown",
   "metadata": {},
   "source": [
    "Betas for all firms:"
   ]
  },
  {
   "cell_type": "code",
   "execution_count": 8,
   "metadata": {},
   "outputs": [
    {
     "data": {
      "text/html": [
       "<div>\n",
       "<style scoped>\n",
       "    .dataframe tbody tr th:only-of-type {\n",
       "        vertical-align: middle;\n",
       "    }\n",
       "\n",
       "    .dataframe tbody tr th {\n",
       "        vertical-align: top;\n",
       "    }\n",
       "\n",
       "    .dataframe thead th {\n",
       "        text-align: right;\n",
       "    }\n",
       "</style>\n",
       "<table border=\"1\" class=\"dataframe\">\n",
       "  <thead>\n",
       "    <tr style=\"text-align: right;\">\n",
       "      <th></th>\n",
       "      <th>AIR</th>\n",
       "      <th>ABT</th>\n",
       "      <th>WDDD</th>\n",
       "      <th>ACU</th>\n",
       "      <th>AE</th>\n",
       "      <th>BKTI</th>\n",
       "      <th>AMD</th>\n",
       "      <th>AEM</th>\n",
       "      <th>APD</th>\n",
       "      <th>APRCP</th>\n",
       "      <th>...</th>\n",
       "      <th>GGPIU</th>\n",
       "      <th>NECB</th>\n",
       "      <th>HITIF</th>\n",
       "      <th>AYRWF</th>\n",
       "      <th>OUTR</th>\n",
       "      <th>GIW</th>\n",
       "      <th>ABCO</th>\n",
       "      <th>NHLDW</th>\n",
       "      <th>ENGMF</th>\n",
       "      <th>CGAU</th>\n",
       "    </tr>\n",
       "  </thead>\n",
       "  <tbody>\n",
       "    <tr>\n",
       "      <th>2009-04-15</th>\n",
       "      <td>NaN</td>\n",
       "      <td>NaN</td>\n",
       "      <td>NaN</td>\n",
       "      <td>NaN</td>\n",
       "      <td>NaN</td>\n",
       "      <td>NaN</td>\n",
       "      <td>NaN</td>\n",
       "      <td>NaN</td>\n",
       "      <td>NaN</td>\n",
       "      <td>NaN</td>\n",
       "      <td>...</td>\n",
       "      <td>NaN</td>\n",
       "      <td>NaN</td>\n",
       "      <td>NaN</td>\n",
       "      <td>NaN</td>\n",
       "      <td>NaN</td>\n",
       "      <td>NaN</td>\n",
       "      <td>NaN</td>\n",
       "      <td>NaN</td>\n",
       "      <td>NaN</td>\n",
       "      <td>NaN</td>\n",
       "    </tr>\n",
       "    <tr>\n",
       "      <th>2009-04-16</th>\n",
       "      <td>NaN</td>\n",
       "      <td>NaN</td>\n",
       "      <td>NaN</td>\n",
       "      <td>NaN</td>\n",
       "      <td>NaN</td>\n",
       "      <td>NaN</td>\n",
       "      <td>NaN</td>\n",
       "      <td>NaN</td>\n",
       "      <td>NaN</td>\n",
       "      <td>NaN</td>\n",
       "      <td>...</td>\n",
       "      <td>NaN</td>\n",
       "      <td>NaN</td>\n",
       "      <td>NaN</td>\n",
       "      <td>NaN</td>\n",
       "      <td>NaN</td>\n",
       "      <td>NaN</td>\n",
       "      <td>NaN</td>\n",
       "      <td>NaN</td>\n",
       "      <td>NaN</td>\n",
       "      <td>NaN</td>\n",
       "    </tr>\n",
       "    <tr>\n",
       "      <th>2009-04-17</th>\n",
       "      <td>NaN</td>\n",
       "      <td>NaN</td>\n",
       "      <td>NaN</td>\n",
       "      <td>NaN</td>\n",
       "      <td>NaN</td>\n",
       "      <td>NaN</td>\n",
       "      <td>NaN</td>\n",
       "      <td>NaN</td>\n",
       "      <td>NaN</td>\n",
       "      <td>NaN</td>\n",
       "      <td>...</td>\n",
       "      <td>NaN</td>\n",
       "      <td>NaN</td>\n",
       "      <td>NaN</td>\n",
       "      <td>NaN</td>\n",
       "      <td>NaN</td>\n",
       "      <td>NaN</td>\n",
       "      <td>NaN</td>\n",
       "      <td>NaN</td>\n",
       "      <td>NaN</td>\n",
       "      <td>NaN</td>\n",
       "    </tr>\n",
       "    <tr>\n",
       "      <th>2009-04-20</th>\n",
       "      <td>NaN</td>\n",
       "      <td>NaN</td>\n",
       "      <td>NaN</td>\n",
       "      <td>NaN</td>\n",
       "      <td>NaN</td>\n",
       "      <td>NaN</td>\n",
       "      <td>NaN</td>\n",
       "      <td>NaN</td>\n",
       "      <td>NaN</td>\n",
       "      <td>NaN</td>\n",
       "      <td>...</td>\n",
       "      <td>NaN</td>\n",
       "      <td>NaN</td>\n",
       "      <td>NaN</td>\n",
       "      <td>NaN</td>\n",
       "      <td>NaN</td>\n",
       "      <td>NaN</td>\n",
       "      <td>NaN</td>\n",
       "      <td>NaN</td>\n",
       "      <td>NaN</td>\n",
       "      <td>NaN</td>\n",
       "    </tr>\n",
       "    <tr>\n",
       "      <th>2009-04-21</th>\n",
       "      <td>NaN</td>\n",
       "      <td>NaN</td>\n",
       "      <td>NaN</td>\n",
       "      <td>NaN</td>\n",
       "      <td>NaN</td>\n",
       "      <td>NaN</td>\n",
       "      <td>NaN</td>\n",
       "      <td>NaN</td>\n",
       "      <td>NaN</td>\n",
       "      <td>NaN</td>\n",
       "      <td>...</td>\n",
       "      <td>NaN</td>\n",
       "      <td>NaN</td>\n",
       "      <td>NaN</td>\n",
       "      <td>NaN</td>\n",
       "      <td>NaN</td>\n",
       "      <td>NaN</td>\n",
       "      <td>NaN</td>\n",
       "      <td>NaN</td>\n",
       "      <td>NaN</td>\n",
       "      <td>NaN</td>\n",
       "    </tr>\n",
       "    <tr>\n",
       "      <th>...</th>\n",
       "      <td>...</td>\n",
       "      <td>...</td>\n",
       "      <td>...</td>\n",
       "      <td>...</td>\n",
       "      <td>...</td>\n",
       "      <td>...</td>\n",
       "      <td>...</td>\n",
       "      <td>...</td>\n",
       "      <td>...</td>\n",
       "      <td>...</td>\n",
       "      <td>...</td>\n",
       "      <td>...</td>\n",
       "      <td>...</td>\n",
       "      <td>...</td>\n",
       "      <td>...</td>\n",
       "      <td>...</td>\n",
       "      <td>...</td>\n",
       "      <td>...</td>\n",
       "      <td>...</td>\n",
       "      <td>...</td>\n",
       "      <td>...</td>\n",
       "    </tr>\n",
       "    <tr>\n",
       "      <th>2021-04-13</th>\n",
       "      <td>2.118640</td>\n",
       "      <td>0.644229</td>\n",
       "      <td>0.637885</td>\n",
       "      <td>0.426704</td>\n",
       "      <td>0.839602</td>\n",
       "      <td>0.462180</td>\n",
       "      <td>1.203143</td>\n",
       "      <td>0.411725</td>\n",
       "      <td>0.873042</td>\n",
       "      <td>-0.016419</td>\n",
       "      <td>...</td>\n",
       "      <td>NaN</td>\n",
       "      <td>0.285076</td>\n",
       "      <td>1.330279</td>\n",
       "      <td>NaN</td>\n",
       "      <td>1.213967e-16</td>\n",
       "      <td>5.386682e-19</td>\n",
       "      <td>4.476557e-16</td>\n",
       "      <td>0.075675</td>\n",
       "      <td>0.596426</td>\n",
       "      <td>NaN</td>\n",
       "    </tr>\n",
       "    <tr>\n",
       "      <th>2021-04-14</th>\n",
       "      <td>2.157536</td>\n",
       "      <td>0.627605</td>\n",
       "      <td>0.476072</td>\n",
       "      <td>0.426066</td>\n",
       "      <td>0.838726</td>\n",
       "      <td>0.626483</td>\n",
       "      <td>1.172730</td>\n",
       "      <td>0.405311</td>\n",
       "      <td>0.877449</td>\n",
       "      <td>-0.016522</td>\n",
       "      <td>...</td>\n",
       "      <td>NaN</td>\n",
       "      <td>0.294279</td>\n",
       "      <td>1.329151</td>\n",
       "      <td>NaN</td>\n",
       "      <td>1.240144e-16</td>\n",
       "      <td>5.502833e-19</td>\n",
       "      <td>4.573084e-16</td>\n",
       "      <td>0.092260</td>\n",
       "      <td>0.595469</td>\n",
       "      <td>NaN</td>\n",
       "    </tr>\n",
       "    <tr>\n",
       "      <th>2021-04-15</th>\n",
       "      <td>2.139149</td>\n",
       "      <td>0.654889</td>\n",
       "      <td>0.513148</td>\n",
       "      <td>0.437620</td>\n",
       "      <td>0.840409</td>\n",
       "      <td>0.636852</td>\n",
       "      <td>1.203493</td>\n",
       "      <td>0.417864</td>\n",
       "      <td>0.871474</td>\n",
       "      <td>-0.017045</td>\n",
       "      <td>...</td>\n",
       "      <td>NaN</td>\n",
       "      <td>0.294859</td>\n",
       "      <td>1.339083</td>\n",
       "      <td>NaN</td>\n",
       "      <td>1.259350e-16</td>\n",
       "      <td>5.588054e-19</td>\n",
       "      <td>4.643906e-16</td>\n",
       "      <td>0.077797</td>\n",
       "      <td>0.559417</td>\n",
       "      <td>NaN</td>\n",
       "    </tr>\n",
       "    <tr>\n",
       "      <th>2021-04-16</th>\n",
       "      <td>2.141854</td>\n",
       "      <td>0.650896</td>\n",
       "      <td>0.509136</td>\n",
       "      <td>0.441299</td>\n",
       "      <td>0.843230</td>\n",
       "      <td>0.636367</td>\n",
       "      <td>1.200947</td>\n",
       "      <td>0.416519</td>\n",
       "      <td>0.872092</td>\n",
       "      <td>-0.017031</td>\n",
       "      <td>...</td>\n",
       "      <td>NaN</td>\n",
       "      <td>0.298726</td>\n",
       "      <td>1.348668</td>\n",
       "      <td>NaN</td>\n",
       "      <td>1.259604e-16</td>\n",
       "      <td>5.589185e-19</td>\n",
       "      <td>4.644845e-16</td>\n",
       "      <td>0.113330</td>\n",
       "      <td>0.561965</td>\n",
       "      <td>NaN</td>\n",
       "    </tr>\n",
       "    <tr>\n",
       "      <th>2021-04-19</th>\n",
       "      <td>2.124337</td>\n",
       "      <td>0.663160</td>\n",
       "      <td>0.577001</td>\n",
       "      <td>0.394523</td>\n",
       "      <td>0.822533</td>\n",
       "      <td>0.568148</td>\n",
       "      <td>1.231534</td>\n",
       "      <td>0.422004</td>\n",
       "      <td>0.861309</td>\n",
       "      <td>-0.014788</td>\n",
       "      <td>...</td>\n",
       "      <td>NaN</td>\n",
       "      <td>0.312774</td>\n",
       "      <td>1.387078</td>\n",
       "      <td>NaN</td>\n",
       "      <td>1.281831e-16</td>\n",
       "      <td>5.687810e-19</td>\n",
       "      <td>4.726807e-16</td>\n",
       "      <td>-0.424243</td>\n",
       "      <td>0.568237</td>\n",
       "      <td>NaN</td>\n",
       "    </tr>\n",
       "  </tbody>\n",
       "</table>\n",
       "<p>3024 rows × 8164 columns</p>\n",
       "</div>"
      ],
      "text/plain": [
       "                 AIR       ABT      WDDD       ACU        AE      BKTI  \\\n",
       "2009-04-15       NaN       NaN       NaN       NaN       NaN       NaN   \n",
       "2009-04-16       NaN       NaN       NaN       NaN       NaN       NaN   \n",
       "2009-04-17       NaN       NaN       NaN       NaN       NaN       NaN   \n",
       "2009-04-20       NaN       NaN       NaN       NaN       NaN       NaN   \n",
       "2009-04-21       NaN       NaN       NaN       NaN       NaN       NaN   \n",
       "...              ...       ...       ...       ...       ...       ...   \n",
       "2021-04-13  2.118640  0.644229  0.637885  0.426704  0.839602  0.462180   \n",
       "2021-04-14  2.157536  0.627605  0.476072  0.426066  0.838726  0.626483   \n",
       "2021-04-15  2.139149  0.654889  0.513148  0.437620  0.840409  0.636852   \n",
       "2021-04-16  2.141854  0.650896  0.509136  0.441299  0.843230  0.636367   \n",
       "2021-04-19  2.124337  0.663160  0.577001  0.394523  0.822533  0.568148   \n",
       "\n",
       "                 AMD       AEM       APD     APRCP  ...  GGPIU      NECB  \\\n",
       "2009-04-15       NaN       NaN       NaN       NaN  ...    NaN       NaN   \n",
       "2009-04-16       NaN       NaN       NaN       NaN  ...    NaN       NaN   \n",
       "2009-04-17       NaN       NaN       NaN       NaN  ...    NaN       NaN   \n",
       "2009-04-20       NaN       NaN       NaN       NaN  ...    NaN       NaN   \n",
       "2009-04-21       NaN       NaN       NaN       NaN  ...    NaN       NaN   \n",
       "...              ...       ...       ...       ...  ...    ...       ...   \n",
       "2021-04-13  1.203143  0.411725  0.873042 -0.016419  ...    NaN  0.285076   \n",
       "2021-04-14  1.172730  0.405311  0.877449 -0.016522  ...    NaN  0.294279   \n",
       "2021-04-15  1.203493  0.417864  0.871474 -0.017045  ...    NaN  0.294859   \n",
       "2021-04-16  1.200947  0.416519  0.872092 -0.017031  ...    NaN  0.298726   \n",
       "2021-04-19  1.231534  0.422004  0.861309 -0.014788  ...    NaN  0.312774   \n",
       "\n",
       "               HITIF  AYRWF          OUTR           GIW          ABCO  \\\n",
       "2009-04-15       NaN    NaN           NaN           NaN           NaN   \n",
       "2009-04-16       NaN    NaN           NaN           NaN           NaN   \n",
       "2009-04-17       NaN    NaN           NaN           NaN           NaN   \n",
       "2009-04-20       NaN    NaN           NaN           NaN           NaN   \n",
       "2009-04-21       NaN    NaN           NaN           NaN           NaN   \n",
       "...              ...    ...           ...           ...           ...   \n",
       "2021-04-13  1.330279    NaN  1.213967e-16  5.386682e-19  4.476557e-16   \n",
       "2021-04-14  1.329151    NaN  1.240144e-16  5.502833e-19  4.573084e-16   \n",
       "2021-04-15  1.339083    NaN  1.259350e-16  5.588054e-19  4.643906e-16   \n",
       "2021-04-16  1.348668    NaN  1.259604e-16  5.589185e-19  4.644845e-16   \n",
       "2021-04-19  1.387078    NaN  1.281831e-16  5.687810e-19  4.726807e-16   \n",
       "\n",
       "               NHLDW     ENGMF  CGAU  \n",
       "2009-04-15       NaN       NaN   NaN  \n",
       "2009-04-16       NaN       NaN   NaN  \n",
       "2009-04-17       NaN       NaN   NaN  \n",
       "2009-04-20       NaN       NaN   NaN  \n",
       "2009-04-21       NaN       NaN   NaN  \n",
       "...              ...       ...   ...  \n",
       "2021-04-13  0.075675  0.596426   NaN  \n",
       "2021-04-14  0.092260  0.595469   NaN  \n",
       "2021-04-15  0.077797  0.559417   NaN  \n",
       "2021-04-16  0.113330  0.561965   NaN  \n",
       "2021-04-19 -0.424243  0.568237   NaN  \n",
       "\n",
       "[3024 rows x 8164 columns]"
      ]
     },
     "execution_count": 8,
     "metadata": {},
     "output_type": "execute_result"
    }
   ],
   "source": [
    "n = 252\n",
    "\n",
    "firms = PRICE.columns\n",
    "start = PRICE.index[0]\n",
    "end   = PRICE.index[-1]\n",
    "\n",
    "var = vti_ret.rolling(n).var()\n",
    "\n",
    "BETA = pd.DataFrame()\n",
    "\n",
    "for firm in firms:\n",
    "    cov        = RET[firm].rolling(n).cov(vti_ret) \n",
    "    BETA[firm] = cov / var\n",
    "    \n",
    "BETA = BETA[start:end]\n",
    "BETA"
   ]
  },
  {
   "cell_type": "code",
   "execution_count": 9,
   "metadata": {},
   "outputs": [
    {
     "data": {
      "text/plain": [
       "<AxesSubplot:>"
      ]
     },
     "execution_count": 9,
     "metadata": {},
     "output_type": "execute_result"
    },
    {
     "data": {
      "image/png": "[encoded data removed]",
      "text/plain": [
       "<Figure size 432x288 with 1 Axes>"
      ]
     },
     "metadata": {},
     "output_type": "display_data"
    }
   ],
   "source": [
    "#Example\n",
    "BETA.SQ.plot()  # same graph as above"
   ]
  },
  {
   "cell_type": "markdown",
   "metadata": {},
   "source": [
    "Among 500 firms with highest average dividend returns during the last 252 trading days, select the 50 firms with lowest beta:"
   ]
  },
  {
   "cell_type": "code",
   "execution_count": 10,
   "metadata": {},
   "outputs": [
    {
     "data": {
      "text/plain": [
       "<AxesSubplot:>"
      ]
     },
     "execution_count": 10,
     "metadata": {},
     "output_type": "execute_result"
    },
    {
     "data": {
      "image/png": "[encoded data removed]",
      "text/plain": [
       "<Figure size 432x288 with 1 Axes>"
      ]
     },
     "metadata": {},
     "output_type": "display_data"
    }
   ],
   "source": [
    "def select_assets(date):\n",
    "    high_div = DIVIDEND[:date][-252:].mean().nlargest(500).index\n",
    "    assets      = BETA[high_div][:date].iloc[-1].nsmallest(50).index\n",
    "    return assets\n",
    "\n",
    "def select_weights(date, assets):            \n",
    "    return pd.Series(1/len(assets), index=assets)  \n",
    "\n",
    "high_div_low_beta, weights, trades = run_backtest('month', '2011-5-1')\n",
    "\n",
    "t = high_div_low_beta.to_frame('High_DIV-Low_beta').join(vti_ret)\n",
    "t.add(1).cumprod().plot()#(logy=True)"
   ]
  },
  {
   "cell_type": "code",
   "execution_count": 11,
   "metadata": {},
   "outputs": [
    {
     "data": {
      "text/plain": [
       "<AxesSubplot:>"
      ]
     },
     "execution_count": 11,
     "metadata": {},
     "output_type": "execute_result"
    },
    {
     "data": {
      "image/png": "[encoded data removed]",
      "text/plain": [
       "<Figure size 432x288 with 1 Axes>"
      ]
     },
     "metadata": {},
     "output_type": "display_data"
    }
   ],
   "source": [
    "#This was a \"winning\" strategy (with the exception of a brief period in 2016) until the pandemic hit in March 2020\n",
    "t.add(1).cumprod().loc[:'2020-3-1'].plot()"
   ]
  },
  {
   "cell_type": "code",
   "execution_count": 12,
   "metadata": {},
   "outputs": [
    {
     "data": {
      "text/plain": [
       "<AxesSubplot:>"
      ]
     },
     "execution_count": 12,
     "metadata": {},
     "output_type": "execute_result"
    },
    {
     "data": {
      "image/png": "[encoded data removed]",
      "text/plain": [
       "<Figure size 432x288 with 1 Axes>"
      ]
     },
     "metadata": {},
     "output_type": "display_data"
    }
   ],
   "source": [
    "#Since the COVID-19 pandemic started, this strategy fell but kept in line with the VTI until around the election time in November. \n",
    "#Since the election and the transition of power, this strategy has proved to not be a winning one in comparison to VTI\n",
    "#The key risk of this strategy is that companies who typically pay high dividends aren't investing as much of their free cash flows back into the business to fuel growth\n",
    "#They're more stable, value based companies. This is contrary to the more appealing high-growth tech companies that can swing markets.\n",
    "t.add(1).cumprod().loc['2020-3-1':].plot()"
   ]
  },
  {
   "cell_type": "markdown",
   "metadata": {},
   "source": [
    "Calculate the beta of this portfolio:"
   ]
  },
  {
   "cell_type": "code",
   "execution_count": 13,
   "metadata": {},
   "outputs": [
    {
     "data": {
      "text/plain": [
       "0.21763687821234048"
      ]
     },
     "execution_count": 13,
     "metadata": {},
     "output_type": "execute_result"
    }
   ],
   "source": [
    "high_div_low_beta.cov(vti_ret) / vti_ret[high_div_low_beta.index[0]:high_div_low_beta.index[-1]].var()"
   ]
  },
  {
   "cell_type": "markdown",
   "metadata": {},
   "source": [
    "Volatilities"
   ]
  },
  {
   "cell_type": "code",
   "execution_count": 14,
   "metadata": {},
   "outputs": [
    {
     "data": {
      "text/plain": [
       "<AxesSubplot:>"
      ]
     },
     "execution_count": 14,
     "metadata": {},
     "output_type": "execute_result"
    },
    {
     "data": {
      "image/png": "[encoded data removed]",
      "text/plain": [
       "<Figure size 432x288 with 1 Axes>"
      ]
     },
     "metadata": {},
     "output_type": "display_data"
    }
   ],
   "source": [
    "vol = t.std()*252**0.5\n",
    "vol.plot.bar()"
   ]
  },
  {
   "cell_type": "markdown",
   "metadata": {},
   "source": [
    "Rolling beta of the portfolio:"
   ]
  },
  {
   "cell_type": "code",
   "execution_count": 15,
   "metadata": {},
   "outputs": [
    {
     "data": {
      "text/plain": [
       "<AxesSubplot:>"
      ]
     },
     "execution_count": 15,
     "metadata": {},
     "output_type": "execute_result"
    },
    {
     "data": {
      "image/png": "[encoded data removed]",
      "text/plain": [
       "<Figure size 432x288 with 1 Axes>"
      ]
     },
     "metadata": {},
     "output_type": "display_data"
    }
   ],
   "source": [
    "cov = high_div_low_beta.rolling(252).cov(vti_ret)\n",
    "var = vti_ret.rolling(252).var()\n",
    "(cov / var).plot()"
   ]
  },
  {
   "cell_type": "markdown",
   "metadata": {},
   "source": [
    "### Conclusion"
   ]
  },
  {
   "cell_type": "markdown",
   "metadata": {},
   "source": [
    "In summary, this high dividend return, low beta backtest strategy was a winner, in comparison to the benchmark VTI index, until the 2020 Presidential Election. The VTI really started to catch up around the time the Coronavirus Pandemic ensued in March 2020, but it wasn't until November 2020 that we saw this strategy get passed by VTI. Typically, when companies pay high dividends they are in general in stable financial health and the dividend payment makes demand go up by attracting more investors. Coupled with a low beta, a portfolio made of these stocks will not fluctuate with market swings and offer nice dividends for holding the stocks. However, since the Biden administration has taken over this strategy has not worked over the past 6 months and may take another few months to surpass the VTI. This is likely because the tech sector, which are typically high-growth firms with low dividend returns and high betas, are dominating the market environment. This has especially been the case with more investors learning about the Crypto market and companies adopting to the digital pivot COVID-19 has forced them to make. This means that instead of paying out their cash to investors, companies reinvest that cash back in the business to fuel even more growth or to gain a competitive edge, particularly in crowded spaces like Fintech."
   ]
  }
 ],
 "metadata": {
  "kernelspec": {
   "display_name": "Python 3 (ipykernel)",
   "language": "python",
   "name": "python3"
  },
  "language_info": {
   "codemirror_mode": {
    "name": "ipython",
    "version": 3
   },
   "file_extension": ".py",
   "mimetype": "text/x-python",
   "name": "python",
   "nbconvert_exporter": "python",
   "pygments_lexer": "ipython3",
   "version": "3.8.12"
  }
 },
 "nbformat": 4,
 "nbformat_minor": 4
}
