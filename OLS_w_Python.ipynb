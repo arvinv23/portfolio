{
  "nbformat": 4,
  "nbformat_minor": 0,
  "metadata": {
    "colab": {
      "name": "OLS w Python.ipynb",
      "provenance": [],
      "collapsed_sections": []
    },
    "kernelspec": {
      "name": "python3",
      "display_name": "Python 3"
    }
  },
  "cells": [
    {
      "cell_type": "code",
      "metadata": {
        "id": "9WupJugvBdFY",
        "colab": {
          "base_uri": "https://localhost:8080/"
        },
        "outputId": "332cffda-c91c-4f9d-d587-2d1a57a801de"
      },
      "source": [
        "#1\n",
        "from google.colab import files\n",
        "import io\n",
        "import pandas as pd\n",
        "import numpy as np\n",
        "from sklearn.datasets import make_classification\n",
        "from sklearn.linear_model import LinearRegression\n",
        "from sklearn.linear_model import LogisticRegression\n",
        "from sklearn.model_selection import train_test_split\n",
        "from sklearn.metrics import roc_curve\n",
        "from sklearn.metrics import roc_auc_score\n",
        "from sklearn.metrics import mean_squared_error\n",
        "import math\n",
        "from matplotlib import pyplot\n",
        "import os\n",
        "import statsmodels.api as sm"
      ],
      "execution_count": null,
      "outputs": [
        {
          "output_type": "stream",
          "text": [
            "/usr/local/lib/python3.6/dist-packages/statsmodels/tools/_testing.py:19: FutureWarning: pandas.util.testing is deprecated. Use the functions in the public API at pandas.testing instead.\n",
            "  import pandas.util.testing as tm\n"
          ],
          "name": "stderr"
        }
      ]
    },
    {
      "cell_type": "code",
      "metadata": {
        "colab": {
          "resources": {
            "http://localhost:8080/nbextensions/google.colab/files.js": {
              "data": "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",
              "ok": true,
              "headers": [
                [
                  "content-type",
                  "application/javascript"
                ]
              ],
              "status": 200,
              "status_text": ""
            }
          },
          "base_uri": "https://localhost:8080/",
          "height": 72
        },
        "id": "4l1jA3CgBh4m",
        "outputId": "e337931c-fcca-4978-a2b3-6bb0292898ac"
      },
      "source": [
        "uploaded = files.upload()"
      ],
      "execution_count": null,
      "outputs": [
        {
          "output_type": "display_data",
          "data": {
            "text/html": [
              "\n",
              "     <input type=\"file\" id=\"files-54a6d5ff-852c-4b06-ae99-cbce37bfa873\" name=\"files[]\" multiple disabled\n",
              "        style=\"border:none\" />\n",
              "     <output id=\"result-54a6d5ff-852c-4b06-ae99-cbce37bfa873\">\n",
              "      Upload widget is only available when the cell has been executed in the\n",
              "      current browser session. Please rerun this cell to enable.\n",
              "      </output>\n",
              "      <script src=\"/nbextensions/google.colab/files.js\"></script> "
            ],
            "text/plain": [
              "<IPython.core.display.HTML object>"
            ]
          },
          "metadata": {
            "tags": []
          }
        },
        {
          "output_type": "stream",
          "text": [
            "Saving Stock Return Data.csv to Stock Return Data.csv\n"
          ],
          "name": "stdout"
        }
      ]
    },
    {
      "cell_type": "code",
      "metadata": {
        "colab": {
          "base_uri": "https://localhost:8080/"
        },
        "id": "kQ5RPWfEBnRT",
        "outputId": "126bebe6-fd2e-42c7-c90d-70b85477fc77"
      },
      "source": [
        "#2\n",
        "df = pd.read_csv(io.BytesIO(uploaded['Stock Return Data.csv']))\n",
        "df.describe()\n",
        "df.info()"
      ],
      "execution_count": null,
      "outputs": [
        {
          "output_type": "stream",
          "text": [
            "<class 'pandas.core.frame.DataFrame'>\n",
            "RangeIndex: 12110 entries, 0 to 12109\n",
            "Data columns (total 51 columns):\n",
            " #   Column  Non-Null Count  Dtype  \n",
            "---  ------  --------------  -----  \n",
            " 0   Date    12110 non-null  int64  \n",
            " 1   Mkt_rf  12110 non-null  float64\n",
            " 2   Agric   12110 non-null  float64\n",
            " 3   Food    12110 non-null  float64\n",
            " 4   Soda    12110 non-null  float64\n",
            " 5   Beer    12110 non-null  float64\n",
            " 6   Smoke   12110 non-null  float64\n",
            " 7   Toys    12110 non-null  float64\n",
            " 8   Fun     12110 non-null  float64\n",
            " 9   Books   12110 non-null  float64\n",
            " 10  Hshld   12110 non-null  float64\n",
            " 11  Clths   12110 non-null  float64\n",
            " 12  Hlth    12110 non-null  float64\n",
            " 13  MedEq   12110 non-null  float64\n",
            " 14  Drugs   12110 non-null  float64\n",
            " 15  Chems   12110 non-null  float64\n",
            " 16  Rubbr   12110 non-null  float64\n",
            " 17  Txtls   12110 non-null  float64\n",
            " 18  BldMt   12110 non-null  float64\n",
            " 19  Cnstr   12110 non-null  float64\n",
            " 20  Steel   12110 non-null  float64\n",
            " 21  FabPr   12110 non-null  float64\n",
            " 22  Mach    12110 non-null  float64\n",
            " 23  ElcEq   12110 non-null  float64\n",
            " 24  Autos   12110 non-null  float64\n",
            " 25  Aero    12110 non-null  float64\n",
            " 26  Ships   12110 non-null  float64\n",
            " 27  Guns    12110 non-null  float64\n",
            " 28  Gold    12110 non-null  float64\n",
            " 29  Mines   12110 non-null  float64\n",
            " 30  Coal    12110 non-null  float64\n",
            " 31  Oil     12110 non-null  float64\n",
            " 32  Util    12110 non-null  float64\n",
            " 33  Telcm   12110 non-null  float64\n",
            " 34  PerSv   12110 non-null  float64\n",
            " 35  BusSv   12110 non-null  float64\n",
            " 36  Hardw   12110 non-null  float64\n",
            " 37  Softw   12110 non-null  float64\n",
            " 38  Chips   12110 non-null  float64\n",
            " 39  LabEq   12110 non-null  float64\n",
            " 40  Paper   12110 non-null  float64\n",
            " 41  Boxes   12110 non-null  float64\n",
            " 42  Trans   12110 non-null  float64\n",
            " 43  Whlsl   12110 non-null  float64\n",
            " 44  Rtail   12110 non-null  float64\n",
            " 45  Meals   12110 non-null  float64\n",
            " 46  Banks   12110 non-null  float64\n",
            " 47  Insur   12110 non-null  float64\n",
            " 48  RlEst   12110 non-null  float64\n",
            " 49  Fin     12110 non-null  float64\n",
            " 50  Other   12110 non-null  float64\n",
            "dtypes: float64(50), int64(1)\n",
            "memory usage: 4.7 MB\n"
          ],
          "name": "stdout"
        }
      ]
    },
    {
      "cell_type": "code",
      "metadata": {
        "id": "bK9w2vstBt1d",
        "colab": {
          "base_uri": "https://localhost:8080/"
        },
        "outputId": "da1e7534-cf20-4507-fa9f-b876cffb5701"
      },
      "source": [
        "#3\n",
        "df['Mkt_rf_lead'] = df['Mkt_rf'].shift(-1)\n",
        "df['Mkt_rf_lead']"
      ],
      "execution_count": null,
      "outputs": [
        {
          "output_type": "execute_result",
          "data": {
            "text/plain": [
              "0        0.59\n",
              "1       -0.74\n",
              "2       -0.15\n",
              "3        0.04\n",
              "4       -0.31\n",
              "         ... \n",
              "12105   -0.07\n",
              "12106    0.05\n",
              "12107    0.22\n",
              "12108   -0.57\n",
              "12109     NaN\n",
              "Name: Mkt_rf_lead, Length: 12110, dtype: float64"
            ]
          },
          "metadata": {
            "tags": []
          },
          "execution_count": 8
        }
      ]
    },
    {
      "cell_type": "code",
      "metadata": {
        "id": "nYuLDMACWQqQ",
        "colab": {
          "base_uri": "https://localhost:8080/"
        },
        "outputId": "f312fc13-22e0-4280-a780-bfb4c7251433"
      },
      "source": [
        "#4\n",
        "df = df.dropna(how='any')\n",
        "df['Mkt_rf_lead'][-5:]"
      ],
      "execution_count": null,
      "outputs": [
        {
          "output_type": "execute_result",
          "data": {
            "text/plain": [
              "12104   -0.07\n",
              "12105   -0.07\n",
              "12106    0.05\n",
              "12107    0.22\n",
              "12108   -0.57\n",
              "Name: Mkt_rf_lead, dtype: float64"
            ]
          },
          "metadata": {
            "tags": []
          },
          "execution_count": 9
        }
      ]
    },
    {
      "cell_type": "code",
      "metadata": {
        "colab": {
          "base_uri": "https://localhost:8080/"
        },
        "id": "s6KptHkIWvaz",
        "outputId": "5ffa526c-0c1f-41d8-c0ad-b0d875311b43"
      },
      "source": [
        "#5\n",
        "X = np.asarray(df.drop(columns=[\"Date\",\"Mkt_rf\",\"Mkt_rf_lead\"], axis=1))\n",
        "X"
      ],
      "execution_count": null,
      "outputs": [
        {
          "output_type": "execute_result",
          "data": {
            "text/plain": [
              "array([[ 3.05,  0.83,  0.18, ...,  3.88,  0.82,  4.84],\n",
              "       [ 3.67,  0.71, -0.68, ...,  2.49, -0.29,  5.07],\n",
              "       [ 1.38, -0.38,  0.32, ..., -2.06, -1.  , -0.05],\n",
              "       ...,\n",
              "       [-0.2 ,  0.03,  0.35, ...,  0.1 , -0.27,  0.04],\n",
              "       [ 0.32, -0.19,  0.35, ...,  0.52, -0.11,  0.3 ],\n",
              "       [-0.08,  0.01, -0.71, ...,  0.63,  0.31,  0.28]])"
            ]
          },
          "metadata": {
            "tags": []
          },
          "execution_count": 10
        }
      ]
    },
    {
      "cell_type": "code",
      "metadata": {
        "colab": {
          "base_uri": "https://localhost:8080/"
        },
        "id": "IuEHP0o6Xltr",
        "outputId": "fa01aa62-172d-49bf-88e7-95dfdf8ed001"
      },
      "source": [
        "y = np.asarray(df.filter(items=['Mkt_rf_lead'], axis = 1))\n",
        "y"
      ],
      "execution_count": null,
      "outputs": [
        {
          "output_type": "execute_result",
          "data": {
            "text/plain": [
              "array([[ 0.59],\n",
              "       [-0.74],\n",
              "       [-0.15],\n",
              "       ...,\n",
              "       [ 0.05],\n",
              "       [ 0.22],\n",
              "       [-0.57]])"
            ]
          },
          "metadata": {
            "tags": []
          },
          "execution_count": 11
        }
      ]
    },
    {
      "cell_type": "code",
      "metadata": {
        "colab": {
          "base_uri": "https://localhost:8080/"
        },
        "id": "ubVqif-Poa-T",
        "outputId": "34f742f4-981a-4412-db35-eeddea810cbd"
      },
      "source": [
        "#6\n",
        "lr = LinearRegression().fit(X,y)\n",
        "y_pred = np.asarray(lr.predict(X))\n",
        "y_pred"
      ],
      "execution_count": null,
      "outputs": [
        {
          "output_type": "execute_result",
          "data": {
            "text/plain": [
              "array([[-0.05185641],\n",
              "       [-0.28156738],\n",
              "       [-0.04285425],\n",
              "       ...,\n",
              "       [-0.02640611],\n",
              "       [ 0.05309793],\n",
              "       [ 0.00685096]])"
            ]
          },
          "metadata": {
            "tags": []
          },
          "execution_count": 12
        }
      ]
    },
    {
      "cell_type": "code",
      "metadata": {
        "colab": {
          "base_uri": "https://localhost:8080/"
        },
        "id": "NZQxT17Vpd_a",
        "outputId": "d27e49c7-ff48-4c08-a3dc-a0b075d70911"
      },
      "source": [
        "#7\n",
        "dif=np.subtract(y,y_pred)\n",
        "dif_sq=np.square(dif)\n",
        "mse = np.mean(dif_sq)\n",
        "mse"
      ],
      "execution_count": null,
      "outputs": [
        {
          "output_type": "execute_result",
          "data": {
            "text/plain": [
              "1.0279229004214308"
            ]
          },
          "metadata": {
            "tags": []
          },
          "execution_count": 13
        }
      ]
    },
    {
      "cell_type": "code",
      "metadata": {
        "colab": {
          "base_uri": "https://localhost:8080/"
        },
        "id": "jCHq3O3zqJxD",
        "outputId": "9375d8ea-9d6b-4f58-d1e4-3ce8172f223d"
      },
      "source": [
        "mse_check = mean_squared_error(y,y_pred)\n",
        "mse_check"
      ],
      "execution_count": null,
      "outputs": [
        {
          "output_type": "execute_result",
          "data": {
            "text/plain": [
              "1.0279229004214308"
            ]
          },
          "metadata": {
            "tags": []
          },
          "execution_count": 14
        }
      ]
    },
    {
      "cell_type": "code",
      "metadata": {
        "colab": {
          "base_uri": "https://localhost:8080/"
        },
        "id": "mMwQ5rm2ptmP",
        "outputId": "87ee4782-a10c-40e1-baaa-829fa867bcf2"
      },
      "source": [
        "#8\n",
        "rmse=math.sqrt(mse)\n",
        "rmse"
      ],
      "execution_count": null,
      "outputs": [
        {
          "output_type": "execute_result",
          "data": {
            "text/plain": [
              "1.0138653265702653"
            ]
          },
          "metadata": {
            "tags": []
          },
          "execution_count": 15
        }
      ]
    },
    {
      "cell_type": "code",
      "metadata": {
        "colab": {
          "base_uri": "https://localhost:8080/",
          "height": 317
        },
        "id": "HAwhluDEtpWP",
        "outputId": "7b812fa5-f225-4a46-88fa-0d017fcbd3ad"
      },
      "source": [
        "df.describe()"
      ],
      "execution_count": null,
      "outputs": [
        {
          "output_type": "execute_result",
          "data": {
            "text/html": [
              "<div>\n",
              "<style scoped>\n",
              "    .dataframe tbody tr th:only-of-type {\n",
              "        vertical-align: middle;\n",
              "    }\n",
              "\n",
              "    .dataframe tbody tr th {\n",
              "        vertical-align: top;\n",
              "    }\n",
              "\n",
              "    .dataframe thead th {\n",
              "        text-align: right;\n",
              "    }\n",
              "</style>\n",
              "<table border=\"1\" class=\"dataframe\">\n",
              "  <thead>\n",
              "    <tr style=\"text-align: right;\">\n",
              "      <th></th>\n",
              "      <th>Date</th>\n",
              "      <th>Mkt_rf</th>\n",
              "      <th>Agric</th>\n",
              "      <th>Food</th>\n",
              "      <th>Soda</th>\n",
              "      <th>Beer</th>\n",
              "      <th>Smoke</th>\n",
              "      <th>Toys</th>\n",
              "      <th>Fun</th>\n",
              "      <th>Books</th>\n",
              "      <th>Hshld</th>\n",
              "      <th>Clths</th>\n",
              "      <th>Hlth</th>\n",
              "      <th>MedEq</th>\n",
              "      <th>Drugs</th>\n",
              "      <th>Chems</th>\n",
              "      <th>Rubbr</th>\n",
              "      <th>Txtls</th>\n",
              "      <th>BldMt</th>\n",
              "      <th>Cnstr</th>\n",
              "      <th>Steel</th>\n",
              "      <th>FabPr</th>\n",
              "      <th>Mach</th>\n",
              "      <th>ElcEq</th>\n",
              "      <th>Autos</th>\n",
              "      <th>Aero</th>\n",
              "      <th>Ships</th>\n",
              "      <th>Guns</th>\n",
              "      <th>Gold</th>\n",
              "      <th>Mines</th>\n",
              "      <th>Coal</th>\n",
              "      <th>Oil</th>\n",
              "      <th>Util</th>\n",
              "      <th>Telcm</th>\n",
              "      <th>PerSv</th>\n",
              "      <th>BusSv</th>\n",
              "      <th>Hardw</th>\n",
              "      <th>Softw</th>\n",
              "      <th>Chips</th>\n",
              "      <th>LabEq</th>\n",
              "      <th>Paper</th>\n",
              "      <th>Boxes</th>\n",
              "      <th>Trans</th>\n",
              "      <th>Whlsl</th>\n",
              "      <th>Rtail</th>\n",
              "      <th>Meals</th>\n",
              "      <th>Banks</th>\n",
              "      <th>Insur</th>\n",
              "      <th>RlEst</th>\n",
              "      <th>Fin</th>\n",
              "      <th>Other</th>\n",
              "      <th>Mkt_rf_lead</th>\n",
              "    </tr>\n",
              "  </thead>\n",
              "  <tbody>\n",
              "    <tr>\n",
              "      <th>count</th>\n",
              "      <td>1.210900e+04</td>\n",
              "      <td>12109.000000</td>\n",
              "      <td>12109.000000</td>\n",
              "      <td>12109.000000</td>\n",
              "      <td>12109.000000</td>\n",
              "      <td>12109.000000</td>\n",
              "      <td>12109.000000</td>\n",
              "      <td>12109.000000</td>\n",
              "      <td>12109.000000</td>\n",
              "      <td>12109.000000</td>\n",
              "      <td>12109.000000</td>\n",
              "      <td>12109.000000</td>\n",
              "      <td>12109.000000</td>\n",
              "      <td>12109.000000</td>\n",
              "      <td>12109.000000</td>\n",
              "      <td>12109.000000</td>\n",
              "      <td>12109.000000</td>\n",
              "      <td>12109.000000</td>\n",
              "      <td>12109.000000</td>\n",
              "      <td>12109.000000</td>\n",
              "      <td>12109.000000</td>\n",
              "      <td>12109.000000</td>\n",
              "      <td>12109.000000</td>\n",
              "      <td>12109.000000</td>\n",
              "      <td>12109.000000</td>\n",
              "      <td>12109.000000</td>\n",
              "      <td>12109.000000</td>\n",
              "      <td>12109.000000</td>\n",
              "      <td>12109.000000</td>\n",
              "      <td>12109.000000</td>\n",
              "      <td>12109.000000</td>\n",
              "      <td>12109.000000</td>\n",
              "      <td>12109.000000</td>\n",
              "      <td>12109.000000</td>\n",
              "      <td>12109.000000</td>\n",
              "      <td>12109.000000</td>\n",
              "      <td>12109.000000</td>\n",
              "      <td>12109.000000</td>\n",
              "      <td>12109.000000</td>\n",
              "      <td>12109.000000</td>\n",
              "      <td>12109.000000</td>\n",
              "      <td>12109.000000</td>\n",
              "      <td>12109.000000</td>\n",
              "      <td>12109.000000</td>\n",
              "      <td>12109.000000</td>\n",
              "      <td>12109.000000</td>\n",
              "      <td>12109.000000</td>\n",
              "      <td>12109.000000</td>\n",
              "      <td>12109.000000</td>\n",
              "      <td>12109.000000</td>\n",
              "      <td>12109.000000</td>\n",
              "      <td>12109.000000</td>\n",
              "    </tr>\n",
              "    <tr>\n",
              "      <th>mean</th>\n",
              "      <td>1.993540e+07</td>\n",
              "      <td>0.026597</td>\n",
              "      <td>0.048196</td>\n",
              "      <td>0.052598</td>\n",
              "      <td>0.053045</td>\n",
              "      <td>0.054615</td>\n",
              "      <td>0.070412</td>\n",
              "      <td>0.035436</td>\n",
              "      <td>0.061738</td>\n",
              "      <td>0.041790</td>\n",
              "      <td>0.041346</td>\n",
              "      <td>0.048005</td>\n",
              "      <td>0.039762</td>\n",
              "      <td>0.047479</td>\n",
              "      <td>0.051330</td>\n",
              "      <td>0.051442</td>\n",
              "      <td>0.047927</td>\n",
              "      <td>0.046669</td>\n",
              "      <td>0.047842</td>\n",
              "      <td>0.046022</td>\n",
              "      <td>0.036871</td>\n",
              "      <td>0.034335</td>\n",
              "      <td>0.047501</td>\n",
              "      <td>0.055138</td>\n",
              "      <td>0.040966</td>\n",
              "      <td>0.058553</td>\n",
              "      <td>0.051922</td>\n",
              "      <td>0.062641</td>\n",
              "      <td>0.045580</td>\n",
              "      <td>0.047369</td>\n",
              "      <td>0.050082</td>\n",
              "      <td>0.052017</td>\n",
              "      <td>0.043265</td>\n",
              "      <td>0.046323</td>\n",
              "      <td>0.027770</td>\n",
              "      <td>0.042639</td>\n",
              "      <td>0.043752</td>\n",
              "      <td>0.047340</td>\n",
              "      <td>0.049791</td>\n",
              "      <td>0.047327</td>\n",
              "      <td>0.047012</td>\n",
              "      <td>0.048152</td>\n",
              "      <td>0.048571</td>\n",
              "      <td>0.044142</td>\n",
              "      <td>0.050811</td>\n",
              "      <td>0.049879</td>\n",
              "      <td>0.048750</td>\n",
              "      <td>0.050548</td>\n",
              "      <td>0.022359</td>\n",
              "      <td>0.054912</td>\n",
              "      <td>0.023720</td>\n",
              "      <td>0.026452</td>\n",
              "    </tr>\n",
              "    <tr>\n",
              "      <th>std</th>\n",
              "      <td>1.384990e+05</td>\n",
              "      <td>1.024948</td>\n",
              "      <td>1.410585</td>\n",
              "      <td>0.919471</td>\n",
              "      <td>1.436342</td>\n",
              "      <td>1.153675</td>\n",
              "      <td>1.404291</td>\n",
              "      <td>1.483039</td>\n",
              "      <td>1.665084</td>\n",
              "      <td>1.211849</td>\n",
              "      <td>1.096993</td>\n",
              "      <td>1.271938</td>\n",
              "      <td>1.511080</td>\n",
              "      <td>1.185270</td>\n",
              "      <td>1.155435</td>\n",
              "      <td>1.251732</td>\n",
              "      <td>1.151381</td>\n",
              "      <td>1.363150</td>\n",
              "      <td>1.225192</td>\n",
              "      <td>1.581853</td>\n",
              "      <td>1.637325</td>\n",
              "      <td>1.512826</td>\n",
              "      <td>1.314133</td>\n",
              "      <td>1.388356</td>\n",
              "      <td>1.465754</td>\n",
              "      <td>1.348990</td>\n",
              "      <td>1.509458</td>\n",
              "      <td>1.375787</td>\n",
              "      <td>2.367913</td>\n",
              "      <td>1.629541</td>\n",
              "      <td>2.409149</td>\n",
              "      <td>1.360350</td>\n",
              "      <td>0.875819</td>\n",
              "      <td>1.120713</td>\n",
              "      <td>1.313848</td>\n",
              "      <td>1.112190</td>\n",
              "      <td>1.661267</td>\n",
              "      <td>2.190101</td>\n",
              "      <td>1.606245</td>\n",
              "      <td>1.434390</td>\n",
              "      <td>1.114558</td>\n",
              "      <td>1.280491</td>\n",
              "      <td>1.242233</td>\n",
              "      <td>1.057495</td>\n",
              "      <td>1.169080</td>\n",
              "      <td>1.263661</td>\n",
              "      <td>1.441094</td>\n",
              "      <td>1.164317</td>\n",
              "      <td>1.509442</td>\n",
              "      <td>1.467567</td>\n",
              "      <td>1.420245</td>\n",
              "      <td>1.024909</td>\n",
              "    </tr>\n",
              "    <tr>\n",
              "      <th>min</th>\n",
              "      <td>1.970010e+07</td>\n",
              "      <td>-17.440000</td>\n",
              "      <td>-15.270000</td>\n",
              "      <td>-16.040000</td>\n",
              "      <td>-19.220000</td>\n",
              "      <td>-14.730000</td>\n",
              "      <td>-13.990000</td>\n",
              "      <td>-18.610000</td>\n",
              "      <td>-24.110000</td>\n",
              "      <td>-19.340000</td>\n",
              "      <td>-21.460000</td>\n",
              "      <td>-18.510000</td>\n",
              "      <td>-15.450000</td>\n",
              "      <td>-15.240000</td>\n",
              "      <td>-18.700000</td>\n",
              "      <td>-17.660000</td>\n",
              "      <td>-16.550000</td>\n",
              "      <td>-18.400000</td>\n",
              "      <td>-17.490000</td>\n",
              "      <td>-15.920000</td>\n",
              "      <td>-23.950000</td>\n",
              "      <td>-15.450000</td>\n",
              "      <td>-18.060000</td>\n",
              "      <td>-19.700000</td>\n",
              "      <td>-19.720000</td>\n",
              "      <td>-18.370000</td>\n",
              "      <td>-13.200000</td>\n",
              "      <td>-19.480000</td>\n",
              "      <td>-23.380000</td>\n",
              "      <td>-16.990000</td>\n",
              "      <td>-19.340000</td>\n",
              "      <td>-19.500000</td>\n",
              "      <td>-12.860000</td>\n",
              "      <td>-16.690000</td>\n",
              "      <td>-14.450000</td>\n",
              "      <td>-16.340000</td>\n",
              "      <td>-21.540000</td>\n",
              "      <td>-20.760000</td>\n",
              "      <td>-17.100000</td>\n",
              "      <td>-18.540000</td>\n",
              "      <td>-20.530000</td>\n",
              "      <td>-21.430000</td>\n",
              "      <td>-17.560000</td>\n",
              "      <td>-13.200000</td>\n",
              "      <td>-18.010000</td>\n",
              "      <td>-15.480000</td>\n",
              "      <td>-16.980000</td>\n",
              "      <td>-13.980000</td>\n",
              "      <td>-16.190000</td>\n",
              "      <td>-16.270000</td>\n",
              "      <td>-17.260000</td>\n",
              "      <td>-17.440000</td>\n",
              "    </tr>\n",
              "    <tr>\n",
              "      <th>25%</th>\n",
              "      <td>1.981122e+07</td>\n",
              "      <td>-0.440000</td>\n",
              "      <td>-0.620000</td>\n",
              "      <td>-0.420000</td>\n",
              "      <td>-0.660000</td>\n",
              "      <td>-0.550000</td>\n",
              "      <td>-0.610000</td>\n",
              "      <td>-0.750000</td>\n",
              "      <td>-0.730000</td>\n",
              "      <td>-0.530000</td>\n",
              "      <td>-0.520000</td>\n",
              "      <td>-0.570000</td>\n",
              "      <td>-0.690000</td>\n",
              "      <td>-0.570000</td>\n",
              "      <td>-0.540000</td>\n",
              "      <td>-0.560000</td>\n",
              "      <td>-0.520000</td>\n",
              "      <td>-0.560000</td>\n",
              "      <td>-0.540000</td>\n",
              "      <td>-0.730000</td>\n",
              "      <td>-0.700000</td>\n",
              "      <td>-0.680000</td>\n",
              "      <td>-0.560000</td>\n",
              "      <td>-0.650000</td>\n",
              "      <td>-0.700000</td>\n",
              "      <td>-0.650000</td>\n",
              "      <td>-0.740000</td>\n",
              "      <td>-0.650000</td>\n",
              "      <td>-1.200000</td>\n",
              "      <td>-0.700000</td>\n",
              "      <td>-1.050000</td>\n",
              "      <td>-0.630000</td>\n",
              "      <td>-0.330000</td>\n",
              "      <td>-0.480000</td>\n",
              "      <td>-0.620000</td>\n",
              "      <td>-0.480000</td>\n",
              "      <td>-0.780000</td>\n",
              "      <td>-0.880000</td>\n",
              "      <td>-0.720000</td>\n",
              "      <td>-0.670000</td>\n",
              "      <td>-0.510000</td>\n",
              "      <td>-0.630000</td>\n",
              "      <td>-0.610000</td>\n",
              "      <td>-0.470000</td>\n",
              "      <td>-0.550000</td>\n",
              "      <td>-0.610000</td>\n",
              "      <td>-0.550000</td>\n",
              "      <td>-0.480000</td>\n",
              "      <td>-0.640000</td>\n",
              "      <td>-0.510000</td>\n",
              "      <td>-0.590000</td>\n",
              "      <td>-0.440000</td>\n",
              "    </tr>\n",
              "    <tr>\n",
              "      <th>50%</th>\n",
              "      <td>1.993121e+07</td>\n",
              "      <td>0.050000</td>\n",
              "      <td>0.040000</td>\n",
              "      <td>0.060000</td>\n",
              "      <td>0.040000</td>\n",
              "      <td>0.050000</td>\n",
              "      <td>0.050000</td>\n",
              "      <td>0.040000</td>\n",
              "      <td>0.060000</td>\n",
              "      <td>0.050000</td>\n",
              "      <td>0.030000</td>\n",
              "      <td>0.060000</td>\n",
              "      <td>0.070000</td>\n",
              "      <td>0.060000</td>\n",
              "      <td>0.050000</td>\n",
              "      <td>0.050000</td>\n",
              "      <td>0.060000</td>\n",
              "      <td>0.060000</td>\n",
              "      <td>0.060000</td>\n",
              "      <td>0.050000</td>\n",
              "      <td>0.030000</td>\n",
              "      <td>0.040000</td>\n",
              "      <td>0.070000</td>\n",
              "      <td>0.040000</td>\n",
              "      <td>0.020000</td>\n",
              "      <td>0.070000</td>\n",
              "      <td>0.060000</td>\n",
              "      <td>0.050000</td>\n",
              "      <td>-0.060000</td>\n",
              "      <td>0.020000</td>\n",
              "      <td>0.000000</td>\n",
              "      <td>0.050000</td>\n",
              "      <td>0.060000</td>\n",
              "      <td>0.050000</td>\n",
              "      <td>0.040000</td>\n",
              "      <td>0.070000</td>\n",
              "      <td>0.050000</td>\n",
              "      <td>0.050000</td>\n",
              "      <td>0.070000</td>\n",
              "      <td>0.070000</td>\n",
              "      <td>0.060000</td>\n",
              "      <td>0.050000</td>\n",
              "      <td>0.050000</td>\n",
              "      <td>0.080000</td>\n",
              "      <td>0.060000</td>\n",
              "      <td>0.070000</td>\n",
              "      <td>0.050000</td>\n",
              "      <td>0.070000</td>\n",
              "      <td>0.020000</td>\n",
              "      <td>0.060000</td>\n",
              "      <td>0.050000</td>\n",
              "      <td>0.050000</td>\n",
              "    </tr>\n",
              "    <tr>\n",
              "      <th>75%</th>\n",
              "      <td>2.005122e+07</td>\n",
              "      <td>0.520000</td>\n",
              "      <td>0.720000</td>\n",
              "      <td>0.540000</td>\n",
              "      <td>0.730000</td>\n",
              "      <td>0.640000</td>\n",
              "      <td>0.760000</td>\n",
              "      <td>0.830000</td>\n",
              "      <td>0.890000</td>\n",
              "      <td>0.620000</td>\n",
              "      <td>0.590000</td>\n",
              "      <td>0.700000</td>\n",
              "      <td>0.800000</td>\n",
              "      <td>0.700000</td>\n",
              "      <td>0.660000</td>\n",
              "      <td>0.680000</td>\n",
              "      <td>0.650000</td>\n",
              "      <td>0.660000</td>\n",
              "      <td>0.650000</td>\n",
              "      <td>0.820000</td>\n",
              "      <td>0.790000</td>\n",
              "      <td>0.750000</td>\n",
              "      <td>0.680000</td>\n",
              "      <td>0.760000</td>\n",
              "      <td>0.790000</td>\n",
              "      <td>0.760000</td>\n",
              "      <td>0.850000</td>\n",
              "      <td>0.770000</td>\n",
              "      <td>1.210000</td>\n",
              "      <td>0.810000</td>\n",
              "      <td>1.120000</td>\n",
              "      <td>0.710000</td>\n",
              "      <td>0.440000</td>\n",
              "      <td>0.590000</td>\n",
              "      <td>0.730000</td>\n",
              "      <td>0.610000</td>\n",
              "      <td>0.870000</td>\n",
              "      <td>0.990000</td>\n",
              "      <td>0.830000</td>\n",
              "      <td>0.770000</td>\n",
              "      <td>0.620000</td>\n",
              "      <td>0.710000</td>\n",
              "      <td>0.690000</td>\n",
              "      <td>0.590000</td>\n",
              "      <td>0.640000</td>\n",
              "      <td>0.710000</td>\n",
              "      <td>0.640000</td>\n",
              "      <td>0.600000</td>\n",
              "      <td>0.700000</td>\n",
              "      <td>0.640000</td>\n",
              "      <td>0.670000</td>\n",
              "      <td>0.520000</td>\n",
              "    </tr>\n",
              "    <tr>\n",
              "      <th>max</th>\n",
              "      <td>2.017123e+07</td>\n",
              "      <td>11.350000</td>\n",
              "      <td>20.320000</td>\n",
              "      <td>9.980000</td>\n",
              "      <td>11.680000</td>\n",
              "      <td>10.120000</td>\n",
              "      <td>14.990000</td>\n",
              "      <td>9.690000</td>\n",
              "      <td>16.580000</td>\n",
              "      <td>19.450000</td>\n",
              "      <td>11.030000</td>\n",
              "      <td>12.690000</td>\n",
              "      <td>17.390000</td>\n",
              "      <td>11.690000</td>\n",
              "      <td>11.340000</td>\n",
              "      <td>13.060000</td>\n",
              "      <td>9.710000</td>\n",
              "      <td>19.500000</td>\n",
              "      <td>9.620000</td>\n",
              "      <td>15.560000</td>\n",
              "      <td>20.260000</td>\n",
              "      <td>11.440000</td>\n",
              "      <td>13.890000</td>\n",
              "      <td>14.080000</td>\n",
              "      <td>11.700000</td>\n",
              "      <td>13.570000</td>\n",
              "      <td>10.620000</td>\n",
              "      <td>14.920000</td>\n",
              "      <td>25.560000</td>\n",
              "      <td>19.850000</td>\n",
              "      <td>21.360000</td>\n",
              "      <td>19.270000</td>\n",
              "      <td>14.430000</td>\n",
              "      <td>14.470000</td>\n",
              "      <td>9.820000</td>\n",
              "      <td>8.230000</td>\n",
              "      <td>21.650000</td>\n",
              "      <td>24.190000</td>\n",
              "      <td>15.880000</td>\n",
              "      <td>12.700000</td>\n",
              "      <td>8.630000</td>\n",
              "      <td>10.920000</td>\n",
              "      <td>9.330000</td>\n",
              "      <td>9.740000</td>\n",
              "      <td>11.750000</td>\n",
              "      <td>11.490000</td>\n",
              "      <td>16.960000</td>\n",
              "      <td>17.840000</td>\n",
              "      <td>21.900000</td>\n",
              "      <td>17.930000</td>\n",
              "      <td>16.840000</td>\n",
              "      <td>11.350000</td>\n",
              "    </tr>\n",
              "  </tbody>\n",
              "</table>\n",
              "</div>"
            ],
            "text/plain": [
              "               Date        Mkt_rf  ...         Other   Mkt_rf_lead\n",
              "count  1.210900e+04  12109.000000  ...  12109.000000  12109.000000\n",
              "mean   1.993540e+07      0.026597  ...      0.023720      0.026452\n",
              "std    1.384990e+05      1.024948  ...      1.420245      1.024909\n",
              "min    1.970010e+07    -17.440000  ...    -17.260000    -17.440000\n",
              "25%    1.981122e+07     -0.440000  ...     -0.590000     -0.440000\n",
              "50%    1.993121e+07      0.050000  ...      0.050000      0.050000\n",
              "75%    2.005122e+07      0.520000  ...      0.670000      0.520000\n",
              "max    2.017123e+07     11.350000  ...     16.840000     11.350000\n",
              "\n",
              "[8 rows x 52 columns]"
            ]
          },
          "metadata": {
            "tags": []
          },
          "execution_count": 16
        }
      ]
    },
    {
      "cell_type": "code",
      "metadata": {
        "id": "mTZCDTVpt5ZP",
        "colab": {
          "base_uri": "https://localhost:8080/"
        },
        "outputId": "38abfc7c-ae3f-4556-9bd9-2b40da05e3f6"
      },
      "source": [
        "### Shrinkage with Python\n",
        "##Lasso \n",
        "#alpha = 1\n",
        "from sklearn import linear_model\n",
        "las = linear_model.Lasso(alpha=1)\n",
        "las.fit(X, y)\n",
        "y_lasso_pred = las.predict(X)\n",
        "mean_squared_error(y,y_lasso_pred)"
      ],
      "execution_count": null,
      "outputs": [
        {
          "output_type": "execute_result",
          "data": {
            "text/plain": [
              "1.0503518694865406"
            ]
          },
          "metadata": {
            "tags": []
          },
          "execution_count": 17
        }
      ]
    },
    {
      "cell_type": "code",
      "metadata": {
        "colab": {
          "base_uri": "https://localhost:8080/"
        },
        "id": "njtXjG6biM4v",
        "outputId": "f79355f5-37ce-4743-894c-fd1369cb5b58"
      },
      "source": [
        "#alpha = 0.1\n",
        "las2 = linear_model.Lasso(alpha=0.1)\n",
        "las2.fit(X, y)\n",
        "y_lasso_pred_2 = las2.predict(X)\n",
        "mean_squared_error(y,y_lasso_pred_2)"
      ],
      "execution_count": null,
      "outputs": [
        {
          "output_type": "execute_result",
          "data": {
            "text/plain": [
              "1.0496251769116054"
            ]
          },
          "metadata": {
            "tags": []
          },
          "execution_count": 18
        }
      ]
    },
    {
      "cell_type": "code",
      "metadata": {
        "colab": {
          "base_uri": "https://localhost:8080/"
        },
        "id": "uGNhiwJpid8W",
        "outputId": "299befc8-2a74-44b8-c459-4fe67c9a0e53"
      },
      "source": [
        "#alpha = 0.01\n",
        "las3 = linear_model.Lasso(alpha=0.01)\n",
        "las3.fit(X, y)\n",
        "y_lasso_pred_3 = las3.predict(X)\n",
        "mean_squared_error(y,y_lasso_pred_3)"
      ],
      "execution_count": null,
      "outputs": [
        {
          "output_type": "execute_result",
          "data": {
            "text/plain": [
              "1.0312636277086589"
            ]
          },
          "metadata": {
            "tags": []
          },
          "execution_count": 19
        }
      ]
    },
    {
      "cell_type": "code",
      "metadata": {
        "colab": {
          "base_uri": "https://localhost:8080/"
        },
        "id": "3xTkB1z6ikxB",
        "outputId": "8f26db66-fa34-49e1-8abb-7095c11ebb4a"
      },
      "source": [
        "##Ridge\n",
        "#alpha = 1\n",
        "rid = linear_model.Ridge(alpha=1)\n",
        "rid.fit(X, y)\n",
        "y_ridge_pred = rid.predict(X)\n",
        "mean_squared_error(y,y_ridge_pred)"
      ],
      "execution_count": null,
      "outputs": [
        {
          "output_type": "execute_result",
          "data": {
            "text/plain": [
              "1.0279229007247566"
            ]
          },
          "metadata": {
            "tags": []
          },
          "execution_count": 20
        }
      ]
    },
    {
      "cell_type": "code",
      "metadata": {
        "colab": {
          "base_uri": "https://localhost:8080/"
        },
        "id": "q5go60YikeaT",
        "outputId": "8ba4652b-d948-425d-832c-af7ecda09ef1"
      },
      "source": [
        "#alpha = 0.1\n",
        "rid2 = linear_model.Ridge(alpha=0.1)\n",
        "rid2.fit(X, y)\n",
        "y_ridge_pred_2 = rid2.predict(X)\n",
        "mean_squared_error(y,y_ridge_pred_2)"
      ],
      "execution_count": null,
      "outputs": [
        {
          "output_type": "execute_result",
          "data": {
            "text/plain": [
              "1.0279229004244654"
            ]
          },
          "metadata": {
            "tags": []
          },
          "execution_count": 21
        }
      ]
    },
    {
      "cell_type": "code",
      "metadata": {
        "colab": {
          "base_uri": "https://localhost:8080/"
        },
        "id": "pmFFi59qkpLa",
        "outputId": "af234c5e-ea0b-4406-fff4-f90b1d250554"
      },
      "source": [
        "#alpha = 0.01\n",
        "rid3 = linear_model.Ridge(alpha=0.01)\n",
        "rid3.fit(X, y)\n",
        "y_ridge_pred_3 = rid3.predict(X)\n",
        "mean_squared_error(y,y_ridge_pred_3)"
      ],
      "execution_count": null,
      "outputs": [
        {
          "output_type": "execute_result",
          "data": {
            "text/plain": [
              "1.0279229004214612"
            ]
          },
          "metadata": {
            "tags": []
          },
          "execution_count": 22
        }
      ]
    },
    {
      "cell_type": "code",
      "metadata": {
        "id": "_unRg_usk4Li"
      },
      "source": [
        "###Decision Trees With Python\n",
        "##Simple Decision Tree Model\n",
        "from sklearn import tree\n",
        "from sklearn.ensemble import RandomForestRegressor"
      ],
      "execution_count": null,
      "outputs": []
    },
    {
      "cell_type": "code",
      "metadata": {
        "id": "EdzuG7X4KCZA"
      },
      "source": [
        "dtr = tree.DecisionTreeRegressor(min_samples_leaf=100,random_state=42)"
      ],
      "execution_count": null,
      "outputs": []
    },
    {
      "cell_type": "code",
      "metadata": {
        "id": "QgRBuupgKgvp"
      },
      "source": [
        "dtr = tree.DecisionTreeRegressor(min_samples_leaf=100,random_state=42).fit(X,y)\n",
        "y_dtr_pred = dtr.predict(X)\n",
        "mse_dtr = mean_squared_error(y,y_dtr_pred)"
      ],
      "execution_count": null,
      "outputs": []
    },
    {
      "cell_type": "code",
      "metadata": {
        "colab": {
          "base_uri": "https://localhost:8080/"
        },
        "id": "EMNZTgcyOT8j",
        "outputId": "c2b9be71-575a-40f4-cccf-577c49af6554"
      },
      "source": [
        "mse_dtr"
      ],
      "execution_count": null,
      "outputs": [
        {
          "output_type": "execute_result",
          "data": {
            "text/plain": [
              "0.9718440195526606"
            ]
          },
          "metadata": {
            "tags": []
          },
          "execution_count": 26
        }
      ]
    },
    {
      "cell_type": "code",
      "metadata": {
        "colab": {
          "base_uri": "https://localhost:8080/",
          "height": 1000
        },
        "id": "-uN3Fbp2LAdj",
        "outputId": "478a44a0-5321-4237-c236-1a63b9c08351"
      },
      "source": [
        "tree.plot_tree(dtr)"
      ],
      "execution_count": null,
      "outputs": [
        {
          "output_type": "execute_result",
          "data": {
            "text/plain": [
              "[Text(136.60893705463184, 212.49818181818182, 'X[36] <= 0.095\\nmse = 1.05\\nsamples = 12109\\nvalue = 0.026'),\n",
              " Text(44.53396674584323, 202.61454545454546, 'X[20] <= -3.415\\nmse = 1.259\\nsamples = 6187\\nvalue = -0.05'),\n",
              " Text(38.17197149643705, 192.73090909090908, 'mse = 8.851\\nsamples = 139\\nvalue = 0.516'),\n",
              " Text(50.89596199524941, 192.73090909090908, 'X[43] <= -2.265\\nmse = 1.077\\nsamples = 6048\\nvalue = -0.063'),\n",
              " Text(34.99097387173397, 182.84727272727272, 'X[46] <= -1.235\\nmse = 2.37\\nsamples = 299\\nvalue = -0.516'),\n",
              " Text(28.628978622327793, 172.96363636363637, 'mse = 2.2\\nsamples = 187\\nvalue = -0.729'),\n",
              " Text(41.35296912114014, 172.96363636363637, 'mse = 2.453\\nsamples = 112\\nvalue = -0.161'),\n",
              " Text(66.80095011876485, 182.84727272727272, 'X[35] <= -3.445\\nmse = 0.999\\nsamples = 5749\\nvalue = -0.04'),\n",
              " Text(54.0769596199525, 172.96363636363637, 'X[26] <= -0.635\\nmse = 1.576\\nsamples = 282\\nvalue = -0.328'),\n",
              " Text(47.71496437054632, 163.07999999999998, 'mse = 1.811\\nsamples = 125\\nvalue = -0.583'),\n",
              " Text(60.438954869358675, 163.07999999999998, 'mse = 1.296\\nsamples = 157\\nvalue = -0.126'),\n",
              " Text(79.5249406175772, 172.96363636363637, 'X[31] <= -2.18\\nmse = 0.965\\nsamples = 5467\\nvalue = -0.025'),\n",
              " Text(73.16294536817102, 163.07999999999998, 'mse = 3.062\\nsamples = 119\\nvalue = 0.354'),\n",
              " Text(85.88693586698338, 163.07999999999998, 'X[8] <= 1.045\\nmse = 0.915\\nsamples = 5348\\nvalue = -0.033'),\n",
              " Text(79.5249406175772, 153.19636363636363, 'X[5] <= -1.265\\nmse = 0.851\\nsamples = 5150\\nvalue = -0.022'),\n",
              " Text(54.0769596199525, 143.31272727272727, 'X[43] <= -0.615\\nmse = 1.048\\nsamples = 994\\nvalue = -0.131'),\n",
              " Text(31.809976247030882, 133.42909090909092, 'X[1] <= -0.505\\nmse = 1.104\\nsamples = 621\\nvalue = -0.214'),\n",
              " Text(19.085985748218526, 123.54545454545455, 'X[41] <= -0.925\\nmse = 0.894\\nsamples = 420\\nvalue = -0.092'),\n",
              " Text(12.723990498812352, 113.66181818181819, 'X[1] <= -1.275\\nmse = 0.948\\nsamples = 287\\nvalue = -0.007'),\n",
              " Text(6.361995249406176, 103.77818181818182, 'mse = 1.074\\nsamples = 102\\nvalue = -0.228'),\n",
              " Text(19.085985748218526, 103.77818181818182, 'mse = 0.837\\nsamples = 185\\nvalue = 0.114'),\n",
              " Text(25.447980997624704, 113.66181818181819, 'mse = 0.727\\nsamples = 133\\nvalue = -0.276'),\n",
              " Text(44.53396674584323, 123.54545454545455, 'X[46] <= -0.805\\nmse = 1.45\\nsamples = 201\\nvalue = -0.467'),\n",
              " Text(38.17197149643705, 113.66181818181819, 'mse = 1.65\\nsamples = 100\\nvalue = -0.694'),\n",
              " Text(50.89596199524941, 113.66181818181819, 'mse = 1.15\\nsamples = 101\\nvalue = -0.241'),\n",
              " Text(76.3439429928741, 133.42909090909092, 'X[5] <= -1.505\\nmse = 0.924\\nsamples = 373\\nvalue = 0.007'),\n",
              " Text(69.98194774346794, 123.54545454545455, 'X[44] <= -0.635\\nmse = 0.926\\nsamples = 240\\nvalue = 0.134'),\n",
              " Text(63.619952494061764, 113.66181818181819, 'mse = 1.237\\nsamples = 103\\nvalue = 0.353'),\n",
              " Text(76.3439429928741, 113.66181818181819, 'mse = 0.63\\nsamples = 137\\nvalue = -0.03'),\n",
              " Text(82.70593824228028, 123.54545454545455, 'mse = 0.839\\nsamples = 133\\nvalue = -0.224'),\n",
              " Text(104.9729216152019, 143.31272727272727, 'X[12] <= -1.775\\nmse = 0.801\\nsamples = 4156\\nvalue = 0.004'),\n",
              " Text(98.61092636579573, 133.42909090909092, 'mse = 1.472\\nsamples = 102\\nvalue = -0.372'),\n",
              " Text(111.33491686460808, 133.42909090909092, 'X[7] <= -1.205\\nmse = 0.78\\nsamples = 4054\\nvalue = 0.013'),\n",
              " Text(95.42992874109264, 123.54545454545455, 'X[27] <= -0.885\\nmse = 1.223\\nsamples = 282\\nvalue = 0.209'),\n",
              " Text(89.06793349168646, 113.66181818181819, 'mse = 1.154\\nsamples = 136\\nvalue = 0.403'),\n",
              " Text(101.79192399049882, 113.66181818181819, 'mse = 1.22\\nsamples = 146\\nvalue = 0.028'),\n",
              " Text(127.23990498812353, 123.54545454545455, 'X[32] <= 1.005\\nmse = 0.744\\nsamples = 3772\\nvalue = -0.002'),\n",
              " Text(114.51591448931117, 113.66181818181819, 'X[26] <= -3.715\\nmse = 0.733\\nsamples = 3496\\nvalue = -0.017'),\n",
              " Text(108.153919239905, 103.77818181818182, 'mse = 1.477\\nsamples = 106\\nvalue = -0.293'),\n",
              " Text(120.87790973871735, 103.77818181818182, 'X[48] <= -1.555\\nmse = 0.708\\nsamples = 3390\\nvalue = -0.009'),\n",
              " Text(114.51591448931117, 93.89454545454547, 'mse = 1.004\\nsamples = 149\\nvalue = -0.219'),\n",
              " Text(127.23990498812353, 93.89454545454547, 'X[6] <= -0.095\\nmse = 0.692\\nsamples = 3241\\nvalue = 0.001'),\n",
              " Text(89.86318289786223, 84.01090909090911, 'X[35] <= 0.845\\nmse = 0.68\\nsamples = 1795\\nvalue = 0.041'),\n",
              " Text(83.50118764845605, 74.12727272727273, 'X[34] <= -0.775\\nmse = 0.67\\nsamples = 1630\\nvalue = 0.061'),\n",
              " Text(67.59619952494062, 64.24363636363637, 'X[12] <= 0.065\\nmse = 0.703\\nsamples = 631\\nvalue = -0.02'),\n",
              " Text(61.234204275534445, 54.360000000000014, 'X[3] <= -0.625\\nmse = 0.615\\nsamples = 508\\nvalue = 0.03'),\n",
              " Text(54.87220902612827, 44.47636363636366, 'mse = 0.537\\nsamples = 181\\nvalue = -0.102'),\n",
              " Text(67.59619952494062, 44.47636363636366, 'X[27] <= -0.005\\nmse = 0.644\\nsamples = 327\\nvalue = 0.103'),\n",
              " Text(61.234204275534445, 34.592727272727274, 'X[20] <= -0.78\\nmse = 0.661\\nsamples = 215\\nvalue = 0.025'),\n",
              " Text(54.87220902612827, 24.709090909090918, 'mse = 0.677\\nsamples = 101\\nvalue = 0.142'),\n",
              " Text(67.59619952494062, 24.709090909090918, 'mse = 0.625\\nsamples = 114\\nvalue = -0.079'),\n",
              " Text(73.9581947743468, 34.592727272727274, 'mse = 0.576\\nsamples = 112\\nvalue = 0.253'),\n",
              " Text(73.9581947743468, 54.360000000000014, 'mse = 1.013\\nsamples = 123\\nvalue = -0.227'),\n",
              " Text(99.4061757719715, 64.24363636363637, 'X[6] <= -1.475\\nmse = 0.643\\nsamples = 999\\nvalue = 0.113'),\n",
              " Text(93.04418052256533, 54.360000000000014, 'mse = 1.08\\nsamples = 101\\nvalue = 0.365'),\n",
              " Text(105.76817102137768, 54.360000000000014, 'X[44] <= 0.155\\nmse = 0.586\\nsamples = 898\\nvalue = 0.084'),\n",
              " Text(93.04418052256533, 44.47636363636366, 'X[26] <= -1.52\\nmse = 0.582\\nsamples = 691\\nvalue = 0.045'),\n",
              " Text(86.68218527315915, 34.592727272727274, 'mse = 0.552\\nsamples = 103\\nvalue = 0.227'),\n",
              " Text(99.4061757719715, 34.592727272727274, 'X[27] <= 0.025\\nmse = 0.58\\nsamples = 588\\nvalue = 0.013'),\n",
              " Text(86.68218527315915, 24.709090909090918, 'X[28] <= -0.365\\nmse = 0.492\\nsamples = 356\\nvalue = 0.069'),\n",
              " Text(80.32019002375297, 14.825454545454562, 'mse = 0.456\\nsamples = 190\\nvalue = -0.04'),\n",
              " Text(93.04418052256533, 14.825454545454562, 'mse = 0.504\\nsamples = 166\\nvalue = 0.195'),\n",
              " Text(112.13016627078385, 24.709090909090918, 'X[12] <= -0.205\\nmse = 0.703\\nsamples = 232\\nvalue = -0.072'),\n",
              " Text(105.76817102137768, 14.825454545454562, 'mse = 0.82\\nsamples = 128\\nvalue = -0.172'),\n",
              " Text(118.49216152019002, 14.825454545454562, 'mse = 0.531\\nsamples = 104\\nvalue = 0.05'),\n",
              " Text(118.49216152019002, 44.47636363636366, 'X[6] <= -0.51\\nmse = 0.577\\nsamples = 207\\nvalue = 0.214'),\n",
              " Text(112.13016627078385, 34.592727272727274, 'mse = 0.626\\nsamples = 104\\nvalue = 0.105'),\n",
              " Text(124.8541567695962, 34.592727272727274, 'mse = 0.504\\nsamples = 103\\nvalue = 0.324'),\n",
              " Text(96.22517814726841, 74.12727272727273, 'mse = 0.732\\nsamples = 165\\nvalue = -0.155'),\n",
              " Text(164.6166270783848, 84.01090909090911, 'X[0] <= -1.245\\nmse = 0.702\\nsamples = 1446\\nvalue = -0.049'),\n",
              " Text(158.25463182897863, 74.12727272727273, 'mse = 1.645\\nsamples = 105\\nvalue = -0.297'),\n",
              " Text(170.978622327791, 74.12727272727273, 'X[43] <= 0.795\\nmse = 0.623\\nsamples = 1341\\nvalue = -0.03'),\n",
              " Text(164.6166270783848, 64.24363636363637, 'X[6] <= 0.275\\nmse = 0.595\\nsamples = 1186\\nvalue = -0.059'),\n",
              " Text(137.57814726840854, 54.360000000000014, 'X[40] <= -0.505\\nmse = 0.553\\nsamples = 474\\nvalue = -0.136'),\n",
              " Text(131.21615201900238, 44.47636363636366, 'mse = 0.605\\nsamples = 127\\nvalue = 0.072'),\n",
              " Text(143.94014251781473, 44.47636363636366, 'X[39] <= 0.255\\nmse = 0.513\\nsamples = 347\\nvalue = -0.212'),\n",
              " Text(137.57814726840854, 34.592727272727274, 'X[26] <= 0.205\\nmse = 0.453\\nsamples = 229\\nvalue = -0.141'),\n",
              " Text(131.21615201900238, 24.709090909090918, 'mse = 0.422\\nsamples = 129\\nvalue = -0.045'),\n",
              " Text(143.94014251781473, 24.709090909090918, 'mse = 0.466\\nsamples = 100\\nvalue = -0.264'),\n",
              " Text(150.3021377672209, 34.592727272727274, 'mse = 0.6\\nsamples = 118\\nvalue = -0.35'),\n",
              " Text(191.65510688836105, 54.360000000000014, 'X[47] <= 0.185\\nmse = 0.617\\nsamples = 712\\nvalue = -0.007'),\n",
              " Text(175.7501187648456, 44.47636363636366, 'X[38] <= -0.185\\nmse = 0.637\\nsamples = 468\\nvalue = -0.068'),\n",
              " Text(163.02612826603325, 34.592727272727274, 'X[39] <= -0.335\\nmse = 0.68\\nsamples = 206\\nvalue = 0.058'),\n",
              " Text(156.6641330166271, 24.709090909090918, 'mse = 0.488\\nsamples = 102\\nvalue = 0.21'),\n",
              " Text(169.38812351543945, 24.709090909090918, 'mse = 0.823\\nsamples = 104\\nvalue = -0.091'),\n",
              " Text(188.47410926365797, 34.592727272727274, 'X[19] <= 0.135\\nmse = 0.58\\nsamples = 262\\nvalue = -0.167'),\n",
              " Text(182.1121140142518, 24.709090909090918, 'mse = 0.6\\nsamples = 151\\nvalue = -0.047'),\n",
              " Text(194.83610451306413, 24.709090909090918, 'mse = 0.508\\nsamples = 111\\nvalue = -0.329'),\n",
              " Text(207.56009501187648, 44.47636363636366, 'X[31] <= 0.165\\nmse = 0.558\\nsamples = 244\\nvalue = 0.108'),\n",
              " Text(201.19809976247032, 34.592727272727274, 'mse = 0.392\\nsamples = 123\\nvalue = 0.25'),\n",
              " Text(213.92209026128268, 34.592727272727274, 'mse = 0.686\\nsamples = 121\\nvalue = -0.036'),\n",
              " Text(177.34061757719715, 64.24363636363637, 'mse = 0.785\\nsamples = 155\\nvalue = 0.189'),\n",
              " Text(139.96389548693588, 113.66181818181819, 'X[27] <= 0.205\\nmse = 0.832\\nsamples = 276\\nvalue = 0.2'),\n",
              " Text(133.6019002375297, 103.77818181818182, 'mse = 0.653\\nsamples = 163\\nvalue = 0.072'),\n",
              " Text(146.32589073634205, 103.77818181818182, 'mse = 1.033\\nsamples = 113\\nvalue = 0.386'),\n",
              " Text(92.24893111638956, 153.19636363636363, 'mse = 2.48\\nsamples = 198\\nvalue = -0.316'),\n",
              " Text(228.68390736342045, 202.61454545454546, 'X[11] <= 1.885\\nmse = 0.819\\nsamples = 5922\\nvalue = 0.107'),\n",
              " Text(212.778919239905, 192.73090909090908, 'X[18] <= 3.115\\nmse = 0.756\\nsamples = 5403\\nvalue = 0.086'),\n",
              " Text(200.05492874109265, 182.84727272727272, 'X[8] <= -1.195\\nmse = 0.73\\nsamples = 5193\\nvalue = 0.1'),\n",
              " Text(193.69293349168646, 172.96363636363637, 'mse = 1.698\\nsamples = 103\\nvalue = -0.23'),\n",
              " Text(206.41692399049882, 172.96363636363637, 'X[48] <= -1.505\\nmse = 0.708\\nsamples = 5090\\nvalue = 0.106'),\n",
              " Text(200.05492874109265, 163.07999999999998, 'mse = 0.97\\nsamples = 124\\nvalue = 0.41'),\n",
              " Text(212.778919239905, 163.07999999999998, 'X[30] <= -0.465\\nmse = 0.699\\nsamples = 4966\\nvalue = 0.099'),\n",
              " Text(174.55724465558197, 153.19636363636363, 'X[14] <= -0.095\\nmse = 0.859\\nsamples = 372\\nvalue = -0.055'),\n",
              " Text(168.19524940617578, 143.31272727272727, 'mse = 0.957\\nsamples = 160\\nvalue = 0.137'),\n",
              " Text(180.91923990498813, 143.31272727272727, 'X[1] <= -0.085\\nmse = 0.737\\nsamples = 212\\nvalue = -0.199'),\n",
              " Text(174.55724465558197, 133.42909090909092, 'mse = 0.732\\nsamples = 105\\nvalue = -0.37'),\n",
              " Text(187.2812351543943, 133.42909090909092, 'mse = 0.685\\nsamples = 107\\nvalue = -0.031'),\n",
              " Text(251.00059382422805, 153.19636363636363, 'X[5] <= -0.135\\nmse = 0.684\\nsamples = 4594\\nvalue = 0.111'),\n",
              " Text(215.9102137767221, 143.31272727272727, 'X[27] <= -0.285\\nmse = 0.752\\nsamples = 995\\nvalue = 0.029'),\n",
              " Text(200.00522565320665, 133.42909090909092, 'X[36] <= 0.845\\nmse = 0.809\\nsamples = 303\\nvalue = 0.182'),\n",
              " Text(193.6432304038005, 123.54545454545455, 'X[20] <= -0.075\\nmse = 0.724\\nsamples = 202\\nvalue = 0.06'),\n",
              " Text(187.2812351543943, 113.66181818181819, 'mse = 0.713\\nsamples = 101\\nvalue = -0.102'),\n",
              " Text(200.00522565320665, 113.66181818181819, 'mse = 0.682\\nsamples = 101\\nvalue = 0.222'),\n",
              " Text(206.36722090261284, 123.54545454545455, 'mse = 0.889\\nsamples = 101\\nvalue = 0.426'),\n",
              " Text(231.81520190023753, 133.42909090909092, 'X[25] <= 0.685\\nmse = 0.712\\nsamples = 692\\nvalue = -0.038'),\n",
              " Text(219.0912114014252, 123.54545454545455, 'X[34] <= 0.845\\nmse = 0.593\\nsamples = 481\\nvalue = 0.033'),\n",
              " Text(212.729216152019, 113.66181818181819, 'X[47] <= 0.345\\nmse = 0.568\\nsamples = 350\\nvalue = 0.104'),\n",
              " Text(206.36722090261284, 103.77818181818182, 'X[31] <= -0.075\\nmse = 0.486\\nsamples = 227\\nvalue = -0.009'),\n",
              " Text(200.00522565320665, 93.89454545454547, 'mse = 0.363\\nsamples = 115\\nvalue = 0.131'),\n",
              " Text(212.729216152019, 93.89454545454547, 'mse = 0.571\\nsamples = 112\\nvalue = -0.154'),\n",
              " Text(219.0912114014252, 103.77818181818182, 'mse = 0.65\\nsamples = 123\\nvalue = 0.315'),\n",
              " Text(225.45320665083136, 113.66181818181819, 'mse = 0.609\\nsamples = 131\\nvalue = -0.158'),\n",
              " Text(244.53919239904988, 123.54545454545455, 'X[8] <= 0.245\\nmse = 0.946\\nsamples = 211\\nvalue = -0.2'),\n",
              " Text(238.17719714964372, 113.66181818181819, 'mse = 1.224\\nsamples = 101\\nvalue = -0.361'),\n",
              " Text(250.90118764845607, 113.66181818181819, 'mse = 0.646\\nsamples = 110\\nvalue = -0.051'),\n",
              " Text(286.090973871734, 143.31272727272727, 'X[8] <= 1.855\\nmse = 0.662\\nsamples = 3599\\nvalue = 0.134'),\n",
              " Text(279.7289786223278, 133.42909090909092, 'X[6] <= -1.065\\nmse = 0.651\\nsamples = 3418\\nvalue = 0.122'),\n",
              " Text(273.36698337292165, 123.54545454545455, 'mse = 1.364\\nsamples = 104\\nvalue = 0.409'),\n",
              " Text(286.090973871734, 123.54545454545455, 'X[19] <= 1.825\\nmse = 0.626\\nsamples = 3314\\nvalue = 0.113'),\n",
              " Text(263.6251781472684, 113.66181818181819, 'X[4] <= 2.305\\nmse = 0.597\\nsamples = 2927\\nvalue = 0.132'),\n",
              " Text(257.26318289786224, 103.77818181818182, 'X[10] <= -0.635\\nmse = 0.592\\nsamples = 2821\\nvalue = 0.141'),\n",
              " Text(231.41757719714965, 93.89454545454547, 'X[12] <= 0.205\\nmse = 0.749\\nsamples = 255\\nvalue = 0.312'),\n",
              " Text(225.05558194774346, 84.01090909090911, 'mse = 0.614\\nsamples = 150\\nvalue = 0.189'),\n",
              " Text(237.77957244655582, 84.01090909090911, 'mse = 0.889\\nsamples = 105\\nvalue = 0.487'),\n",
              " Text(283.10878859857485, 93.89454545454547, 'X[10] <= 0.865\\nmse = 0.573\\nsamples = 2566\\nvalue = 0.124'),\n",
              " Text(250.50356294536817, 84.01090909090911, 'X[9] <= 1.585\\nmse = 0.567\\nsamples = 1645\\nvalue = 0.08'),\n",
              " Text(244.141567695962, 74.12727272727273, 'X[3] <= -0.335\\nmse = 0.527\\nsamples = 1541\\nvalue = 0.102'),\n",
              " Text(226.64608076009503, 64.24363636363637, 'X[41] <= 0.305\\nmse = 0.623\\nsamples = 231\\nvalue = -0.063'),\n",
              " Text(220.28408551068884, 54.360000000000014, 'mse = 0.661\\nsamples = 130\\nvalue = 0.066'),\n",
              " Text(233.0080760095012, 54.360000000000014, 'mse = 0.525\\nsamples = 101\\nvalue = -0.228'),\n",
              " Text(261.63705463182896, 64.24363636363637, 'X[13] <= 0.865\\nmse = 0.504\\nsamples = 1310\\nvalue = 0.131'),\n",
              " Text(245.73206650831355, 54.360000000000014, 'X[12] <= 0.425\\nmse = 0.485\\nsamples = 1016\\nvalue = 0.164'),\n",
              " Text(233.0080760095012, 44.47636363636366, 'X[17] <= -0.235\\nmse = 0.488\\nsamples = 559\\nvalue = 0.222'),\n",
              " Text(226.64608076009503, 34.592727272727274, 'mse = 0.423\\nsamples = 112\\nvalue = 0.385'),\n",
              " Text(239.37007125890736, 34.592727272727274, 'X[19] <= 0.705\\nmse = 0.496\\nsamples = 447\\nvalue = 0.181'),\n",
              " Text(233.0080760095012, 24.709090909090918, 'X[41] <= 0.435\\nmse = 0.502\\nsamples = 329\\nvalue = 0.114'),\n",
              " Text(226.64608076009503, 14.825454545454562, 'X[44] <= 0.135\\nmse = 0.444\\nsamples = 227\\nvalue = 0.2'),\n",
              " Text(220.28408551068884, 4.941818181818206, 'mse = 0.444\\nsamples = 114\\nvalue = 0.075'),\n",
              " Text(233.0080760095012, 4.941818181818206, 'mse = 0.412\\nsamples = 113\\nvalue = 0.326'),\n",
              " Text(239.37007125890736, 14.825454545454562, 'mse = 0.579\\nsamples = 102\\nvalue = -0.077'),\n",
              " Text(245.73206650831355, 24.709090909090918, 'mse = 0.429\\nsamples = 118\\nvalue = 0.368'),\n",
              " Text(258.4560570071259, 44.47636363636366, 'X[5] <= 0.475\\nmse = 0.473\\nsamples = 457\\nvalue = 0.092'),\n",
              " Text(252.09406175771971, 34.592727272727274, 'mse = 0.418\\nsamples = 149\\nvalue = -0.045'),\n",
              " Text(264.8180522565321, 34.592727272727274, 'X[31] <= 0.35\\nmse = 0.486\\nsamples = 308\\nvalue = 0.159'),\n",
              " Text(258.4560570071259, 24.709090909090918, 'mse = 0.43\\nsamples = 116\\nvalue = 0.032'),\n",
              " Text(271.18004750593826, 24.709090909090918, 'mse = 0.504\\nsamples = 192\\nvalue = 0.235'),\n",
              " Text(277.5420427553444, 54.360000000000014, 'X[33] <= 0.465\\nmse = 0.554\\nsamples = 294\\nvalue = 0.016'),\n",
              " Text(271.18004750593826, 44.47636363636366, 'mse = 0.515\\nsamples = 102\\nvalue = -0.186'),\n",
              " Text(283.9040380047506, 44.47636363636366, 'mse = 0.541\\nsamples = 192\\nvalue = 0.124'),\n",
              " Text(256.86555819477434, 74.12727272727273, 'mse = 1.044\\nsamples = 104\\nvalue = -0.244'),\n",
              " Text(315.71401425178146, 84.01090909090911, 'X[33] <= 1.485\\nmse = 0.574\\nsamples = 921\\nvalue = 0.204'),\n",
              " Text(309.3520190023753, 74.12727272727273, 'X[34] <= 0.485\\nmse = 0.536\\nsamples = 811\\nvalue = 0.161'),\n",
              " Text(296.628028503563, 64.24363636363637, 'X[1] <= 0.305\\nmse = 0.546\\nsamples = 294\\nvalue = 0.058'),\n",
              " Text(290.26603325415675, 54.360000000000014, 'mse = 0.652\\nsamples = 122\\nvalue = 0.204'),\n",
              " Text(302.99002375296914, 54.360000000000014, 'mse = 0.445\\nsamples = 172\\nvalue = -0.046'),\n",
              " Text(322.0760095011877, 64.24363636363637, 'X[4] <= 1.115\\nmse = 0.52\\nsamples = 517\\nvalue = 0.22'),\n",
              " Text(315.71401425178146, 54.360000000000014, 'X[45] <= 0.515\\nmse = 0.522\\nsamples = 375\\nvalue = 0.165'),\n",
              " Text(309.3520190023753, 44.47636363636366, 'mse = 0.533\\nsamples = 171\\nvalue = 0.301'),\n",
              " Text(322.0760095011877, 44.47636363636366, 'X[13] <= 0.895\\nmse = 0.484\\nsamples = 204\\nvalue = 0.051'),\n",
              " Text(315.71401425178146, 34.592727272727274, 'mse = 0.488\\nsamples = 104\\nvalue = -0.07'),\n",
              " Text(328.43800475059385, 34.592727272727274, 'mse = 0.448\\nsamples = 100\\nvalue = 0.177'),\n",
              " Text(328.43800475059385, 54.360000000000014, 'mse = 0.486\\nsamples = 142\\nvalue = 0.365'),\n",
              " Text(322.0760095011877, 74.12727272727273, 'mse = 0.746\\nsamples = 110\\nvalue = 0.522'),\n",
              " Text(269.9871733966746, 103.77818181818182, 'mse = 0.664\\nsamples = 106\\nvalue = -0.128'),\n",
              " Text(308.55676959619956, 113.66181818181819, 'X[26] <= 1.5\\nmse = 0.821\\nsamples = 387\\nvalue = -0.026'),\n",
              " Text(302.19477434679334, 103.77818181818182, 'X[38] <= 1.155\\nmse = 0.69\\nsamples = 285\\nvalue = 0.061'),\n",
              " Text(295.8327790973872, 93.89454545454547, 'mse = 0.572\\nsamples = 185\\nvalue = 0.192'),\n",
              " Text(308.55676959619956, 93.89454545454547, 'mse = 0.819\\nsamples = 100\\nvalue = -0.181'),\n",
              " Text(314.9187648456057, 103.77818181818182, 'mse = 1.106\\nsamples = 102\\nvalue = -0.267'),\n",
              " Text(292.45296912114014, 133.42909090909092, 'mse = 0.833\\nsamples = 181\\nvalue = 0.358'),\n",
              " Text(225.50290973871734, 182.84727272727272, 'X[17] <= 2.385\\nmse = 1.291\\nsamples = 210\\nvalue = -0.265'),\n",
              " Text(219.14091448931117, 172.96363636363637, 'mse = 0.954\\nsamples = 107\\nvalue = -0.06'),\n",
              " Text(231.86490498812353, 172.96363636363637, 'mse = 1.551\\nsamples = 103\\nvalue = -0.478'),\n",
              " Text(244.58889548693588, 192.73090909090908, 'X[47] <= 1.03\\nmse = 1.426\\nsamples = 519\\nvalue = 0.324'),\n",
              " Text(238.2269002375297, 182.84727272727272, 'mse = 1.059\\nsamples = 141\\nvalue = 0.109'),\n",
              " Text(250.95089073634205, 182.84727272727272, 'X[14] <= 1.235\\nmse = 1.539\\nsamples = 378\\nvalue = 0.404'),\n",
              " Text(244.58889548693588, 172.96363636363637, 'mse = 1.253\\nsamples = 139\\nvalue = 0.678'),\n",
              " Text(257.3128859857482, 172.96363636363637, 'X[12] <= 2.32\\nmse = 1.636\\nsamples = 239\\nvalue = 0.244'),\n",
              " Text(250.95089073634205, 163.07999999999998, 'mse = 1.278\\nsamples = 137\\nvalue = 0.405'),\n",
              " Text(263.67488123515443, 163.07999999999998, 'mse = 2.036\\nsamples = 102\\nvalue = 0.028')]"
            ]
          },
          "metadata": {
            "tags": []
          },
          "execution_count": 27
        },
        {
          "output_type": "display_data",
          "data": {
            "image/png": "[encoded data removed]",
            "text/plain": [
              "<Figure size 432x288 with 1 Axes>"
            ]
          },
          "metadata": {
            "tags": [],
            "needs_background": "light"
          }
        }
      ]
    },
    {
      "cell_type": "code",
      "metadata": {
        "colab": {
          "base_uri": "https://localhost:8080/"
        },
        "id": "Ob1PpIe8tgNd",
        "outputId": "ce96703f-7ec3-4dc3-f7c9-13aff70c2461"
      },
      "source": [
        "print (\"Height of tree is %d\" %(dtr.get_depth()))"
      ],
      "execution_count": null,
      "outputs": [
        {
          "output_type": "stream",
          "text": [
            "Height of tree is 21\n"
          ],
          "name": "stdout"
        }
      ]
    },
    {
      "cell_type": "code",
      "metadata": {
        "id": "--9koNfzMOg1",
        "colab": {
          "base_uri": "https://localhost:8080/"
        },
        "outputId": "24d346b9-8562-4e9a-84b0-b962868b4cae"
      },
      "source": [
        "##Random Forest Algorithm\n",
        "rfr = RandomForestRegressor(random_state=42, n_estimators = 100, min_samples_leaf = 100, max_features = 'sqrt').fit(X,y.ravel())\n",
        "rfr"
      ],
      "execution_count": null,
      "outputs": [
        {
          "output_type": "execute_result",
          "data": {
            "text/plain": [
              "RandomForestRegressor(bootstrap=True, ccp_alpha=0.0, criterion='mse',\n",
              "                      max_depth=None, max_features='sqrt', max_leaf_nodes=None,\n",
              "                      max_samples=None, min_impurity_decrease=0.0,\n",
              "                      min_impurity_split=None, min_samples_leaf=100,\n",
              "                      min_samples_split=2, min_weight_fraction_leaf=0.0,\n",
              "                      n_estimators=100, n_jobs=None, oob_score=False,\n",
              "                      random_state=42, verbose=0, warm_start=False)"
            ]
          },
          "metadata": {
            "tags": []
          },
          "execution_count": 29
        }
      ]
    },
    {
      "cell_type": "code",
      "metadata": {
        "id": "SEG0o7HyPgaE",
        "colab": {
          "base_uri": "https://localhost:8080/"
        },
        "outputId": "a0be1e62-cd28-4ecf-8dd6-ad4b236d9ce4"
      },
      "source": [
        "y_rfr_pred = rfr.predict(X)\n",
        "mse_rfr = mean_squared_error(y,y_rfr_pred)\n",
        "print(y_rfr_pred)\n",
        "print(mse_rfr)"
      ],
      "execution_count": null,
      "outputs": [
        {
          "output_type": "stream",
          "text": [
            "[ 0.06071997  0.0325297  -0.20253734 ... -0.00568292  0.04701138\n",
            "  0.02116135]\n",
            "0.9814334662236628\n"
          ],
          "name": "stdout"
        }
      ]
    },
    {
      "cell_type": "code",
      "metadata": {
        "id": "0Xt-l5F_Py_d"
      },
      "source": [
        "###Deep Learning With Python\n",
        "##Feed-forward Network Model\n",
        "from sklearn.neural_network import MLPRegressor"
      ],
      "execution_count": null,
      "outputs": []
    },
    {
      "cell_type": "code",
      "metadata": {
        "id": "AlrgOocTSh3A",
        "colab": {
          "base_uri": "https://localhost:8080/"
        },
        "outputId": "a36235f9-a226-42a8-bbdb-77930a8a9e81"
      },
      "source": [
        "ffnm = MLPRegressor(random_state=42, solver='sgd', max_iter = 10000, activation ='relu', hidden_layer_sizes=(20,10,3))\n",
        "ffnm"
      ],
      "execution_count": null,
      "outputs": [
        {
          "output_type": "execute_result",
          "data": {
            "text/plain": [
              "MLPRegressor(activation='relu', alpha=0.0001, batch_size='auto', beta_1=0.9,\n",
              "             beta_2=0.999, early_stopping=False, epsilon=1e-08,\n",
              "             hidden_layer_sizes=(20, 10, 3), learning_rate='constant',\n",
              "             learning_rate_init=0.001, max_fun=15000, max_iter=10000,\n",
              "             momentum=0.9, n_iter_no_change=10, nesterovs_momentum=True,\n",
              "             power_t=0.5, random_state=42, shuffle=True, solver='sgd',\n",
              "             tol=0.0001, validation_fraction=0.1, verbose=False,\n",
              "             warm_start=False)"
            ]
          },
          "metadata": {
            "tags": []
          },
          "execution_count": 32
        }
      ]
    },
    {
      "cell_type": "code",
      "metadata": {
        "id": "BK-UE_I3S5qN",
        "colab": {
          "base_uri": "https://localhost:8080/"
        },
        "outputId": "bbe99cf5-46b8-47c6-dcd5-82d790bfaf4d"
      },
      "source": [
        "ffnm_fit = ffnm.fit(X,y)\n",
        "ffnm_fit"
      ],
      "execution_count": null,
      "outputs": [
        {
          "output_type": "stream",
          "text": [
            "/usr/local/lib/python3.6/dist-packages/sklearn/neural_network/_multilayer_perceptron.py:1342: DataConversionWarning: A column-vector y was passed when a 1d array was expected. Please change the shape of y to (n_samples, ), for example using ravel().\n",
            "  y = column_or_1d(y, warn=True)\n"
          ],
          "name": "stderr"
        },
        {
          "output_type": "execute_result",
          "data": {
            "text/plain": [
              "MLPRegressor(activation='relu', alpha=0.0001, batch_size='auto', beta_1=0.9,\n",
              "             beta_2=0.999, early_stopping=False, epsilon=1e-08,\n",
              "             hidden_layer_sizes=(20, 10, 3), learning_rate='constant',\n",
              "             learning_rate_init=0.001, max_fun=15000, max_iter=10000,\n",
              "             momentum=0.9, n_iter_no_change=10, nesterovs_momentum=True,\n",
              "             power_t=0.5, random_state=42, shuffle=True, solver='sgd',\n",
              "             tol=0.0001, validation_fraction=0.1, verbose=False,\n",
              "             warm_start=False)"
            ]
          },
          "metadata": {
            "tags": []
          },
          "execution_count": 33
        }
      ]
    },
    {
      "cell_type": "code",
      "metadata": {
        "id": "ymsLcXjcTCm8",
        "colab": {
          "base_uri": "https://localhost:8080/"
        },
        "outputId": "8b80b5e8-5690-434f-f0c2-ae145eb95524"
      },
      "source": [
        "y_ffnm_pred = ffnm_fit.predict(X)\n",
        "mse_ffnm = mean_squared_error(y,y_ffnm_pred)\n",
        "print(y_ffnm_pred)\n",
        "print(mse_ffnm)"
      ],
      "execution_count": null,
      "outputs": [
        {
          "output_type": "stream",
          "text": [
            "[-0.08213813  0.01153157 -0.85340376 ... -0.00181    -0.08653385\n",
            "  0.05280616]\n",
            "0.8260754410623826\n"
          ],
          "name": "stdout"
        }
      ]
    },
    {
      "cell_type": "code",
      "metadata": {
        "id": "OhG9rqVkTRr5"
      },
      "source": [
        ""
      ],
      "execution_count": null,
      "outputs": []
    }
  ]
}