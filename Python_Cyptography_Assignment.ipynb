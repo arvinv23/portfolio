{
  "nbformat": 4,
  "nbformat_minor": 0,
  "metadata": {
    "colab": {
      "name": "Python_Cyptography_Assignment.ipynb",
      "provenance": []
    },
    "kernelspec": {
      "name": "python3",
      "display_name": "Python 3"
    }
  },
  "cells": [
    {
      "cell_type": "code",
      "metadata": {
        "id": "7CX7l5u7LHHE"
      },
      "source": [
        "from sympy import mod_inverse\n",
        "import hashlib"
      ],
      "execution_count": null,
      "outputs": []
    },
    {
      "cell_type": "code",
      "metadata": {
        "colab": {
          "base_uri": "https://localhost:8080/"
        },
        "id": "S2YYkGLVLVRo",
        "outputId": "7a696e15-ecb4-4140-ea87-cda13d945e2f"
      },
      "source": [
        "#part 1\n",
        "p = 112481050639317229656723018120659623829736571015511322021617837187076258724819\n",
        "q = 89185111938335771293328323333111422985697062149139368049232365065924632677343\n",
        "e = 65537\n",
        "n = p*q\n",
        "n"
      ],
      "execution_count": null,
      "outputs": [
        {
          "output_type": "execute_result",
          "data": {
            "text/plain": [
              "10031635092209121498674987861649022163771061565130441373555584537047455688991931937563110507506652959265182705476941444174840580049331773111276155053075917"
            ]
          },
          "metadata": {
            "tags": []
          },
          "execution_count": 3
        }
      ]
    },
    {
      "cell_type": "code",
      "metadata": {
        "colab": {
          "base_uri": "https://localhost:8080/"
        },
        "id": "mTy2X3a_LWtC",
        "outputId": "9a4fbcec-dba9-4057-d0c1-14cad8750811"
      },
      "source": [
        "#part 2\n",
        "message=\"Running late. Wait for me.\"\n",
        "m=int.from_bytes(message.encode('utf-8'),\"big\")\n",
        "print(m)"
      ],
      "execution_count": null,
      "outputs": [
        {
          "output_type": "stream",
          "text": [
            "132506048299782729601861890795689101374996562756163152523388206\n"
          ],
          "name": "stdout"
        }
      ]
    },
    {
      "cell_type": "code",
      "metadata": {
        "colab": {
          "base_uri": "https://localhost:8080/"
        },
        "id": "M0CCgptjLeGn",
        "outputId": "d836418f-3555-4edc-d4c1-9698e63b06ce"
      },
      "source": [
        "# private key\n",
        "d = mod_inverse(e, (p-1) * (q-1)) #in order to know d, you need p and q, foundational blocks to build private key\n",
        "print(d)"
      ],
      "execution_count": null,
      "outputs": [
        {
          "output_type": "stream",
          "text": [
            "6886694454027199678759881881737814611139109676622117091683160716943132564863007715345245794849719693156483947830169207322284232384798025277322134502462181\n"
          ],
          "name": "stdout"
        }
      ]
    },
    {
      "cell_type": "code",
      "metadata": {
        "colab": {
          "base_uri": "https://localhost:8080/"
        },
        "id": "Rcu9tr3ZLfys",
        "outputId": "1cea8e68-11db-45fc-ab29-5f482391c2b8"
      },
      "source": [
        "c=pow(m,e,n)\n",
        "print(c)"
      ],
      "execution_count": null,
      "outputs": [
        {
          "output_type": "stream",
          "text": [
            "5628730804056595371855684110576266781276706571005479901402626056646581913671537162886477174980769106939051646161443333500500835847610834908579566064478525\n"
          ],
          "name": "stdout"
        }
      ]
    },
    {
      "cell_type": "code",
      "metadata": {
        "colab": {
          "base_uri": "https://localhost:8080/",
          "height": 35
        },
        "id": "7HWikAmVLjJs",
        "outputId": "84c2836a-1396-4151-9ba2-822ed5934b7c"
      },
      "source": [
        "#check\n",
        "m_bytes = m.to_bytes((m.bit_length() + 7) // 8, 'big')\n",
        "message = m_bytes.decode()\n",
        "message"
      ],
      "execution_count": null,
      "outputs": [
        {
          "output_type": "execute_result",
          "data": {
            "application/vnd.google.colaboratory.intrinsic+json": {
              "type": "string"
            },
            "text/plain": [
              "'Running late. Wait for me.'"
            ]
          },
          "metadata": {
            "tags": []
          },
          "execution_count": 7
        }
      ]
    },
    {
      "cell_type": "code",
      "metadata": {
        "colab": {
          "base_uri": "https://localhost:8080/"
        },
        "id": "Wk1xt0r1Lurq",
        "outputId": "65646fe6-fc28-4cbe-f448-c0e8e90b6ca7"
      },
      "source": [
        "#part 3\n",
        "\n",
        "m2 = 9029727923340384868426518880554167882611943065703927838617521515742066859974885947494642963883568408240430125599636824996577080116022919050269017033777667\n",
        "m3 = pow(m2,d,n)\n",
        "print(m3)"
      ],
      "execution_count": null,
      "outputs": [
        {
          "output_type": "stream",
          "text": [
            "10379239283949190299324585217417527333611865033913961921777380620540196660845060254260080139215244456258730728056097\n"
          ],
          "name": "stdout"
        }
      ]
    },
    {
      "cell_type": "code",
      "metadata": {
        "colab": {
          "base_uri": "https://localhost:8080/",
          "height": 35
        },
        "id": "RU98JHgrLxnN",
        "outputId": "730de63a-da19-40c6-ef95-371d21a9de6a"
      },
      "source": [
        "m3_bytes = m3.to_bytes((m3.bit_length() + 7) // 8, 'big')\n",
        "message3 = m3_bytes.decode()\n",
        "message3"
      ],
      "execution_count": null,
      "outputs": [
        {
          "output_type": "execute_result",
          "data": {
            "application/vnd.google.colaboratory.intrinsic+json": {
              "type": "string"
            },
            "text/plain": [
              "'Congrats! You just decrypted your first message!'"
            ]
          },
          "metadata": {
            "tags": []
          },
          "execution_count": 9
        }
      ]
    },
    {
      "cell_type": "code",
      "metadata": {
        "colab": {
          "base_uri": "https://localhost:8080/",
          "height": 35
        },
        "id": "rPrJ6OQ6L2pN",
        "outputId": "0d5dbbf7-8044-417f-83f9-63ae6deabe6c"
      },
      "source": [
        "#part 4\n",
        "message_hash =hashlib.sha256(b\"Congrats! You just decrypted your first message!\").hexdigest()\n",
        "message_hash"
      ],
      "execution_count": null,
      "outputs": [
        {
          "output_type": "execute_result",
          "data": {
            "application/vnd.google.colaboratory.intrinsic+json": {
              "type": "string"
            },
            "text/plain": [
              "'c98b86cf748ca732199bbafb5bca1ac2db34416b198bf3906c6cf3bb19e2c015'"
            ]
          },
          "metadata": {
            "tags": []
          },
          "execution_count": 13
        }
      ]
    },
    {
      "cell_type": "code",
      "metadata": {
        "colab": {
          "base_uri": "https://localhost:8080/"
        },
        "id": "Rgrd7QK0L6Z-",
        "outputId": "ff2e5dc4-7c70-4dac-b59b-b37cd6098eb0"
      },
      "source": [
        "hashed_m =int.from_bytes(message_hash.encode('utf-8'),\"big\")\n",
        "sig = pow(hashed_m,d,n)\n",
        "sig"
      ],
      "execution_count": null,
      "outputs": [
        {
          "output_type": "execute_result",
          "data": {
            "text/plain": [
              "3141272798217254437841732019283821297853765608850884890749159341487650279071377864998607585732045317788354363036712706102305523253064683707241033589893839"
            ]
          },
          "metadata": {
            "tags": []
          },
          "execution_count": 14
        }
      ]
    },
    {
      "cell_type": "code",
      "metadata": {
        "id": "9zd2ppqGL8la",
        "colab": {
          "base_uri": "https://localhost:8080/"
        },
        "outputId": "701c0827-0366-40b3-997c-79aa450066cb"
      },
      "source": [
        "#part 5\n",
        "\n",
        "verify = pow(sig,e,n)\n",
        "verify_bytes = verify.to_bytes((verify.bit_length() + 7) // 8, 'big')\n",
        "decryp = verify_bytes.decode()\n",
        "\n",
        "print(message_hash)\n",
        "print(decryp)"
      ],
      "execution_count": null,
      "outputs": [
        {
          "output_type": "stream",
          "text": [
            "c98b86cf748ca732199bbafb5bca1ac2db34416b198bf3906c6cf3bb19e2c015\n",
            "c98b86cf748ca732199bbafb5bca1ac2db34416b198bf3906c6cf3bb19e2c015\n"
          ],
          "name": "stdout"
        }
      ]
    }
  ]
}