{
  "nbformat": 4,
  "nbformat_minor": 0,
  "metadata": {
    "colab": {
      "name": "APIs w Python.ipynb",
      "provenance": []
    },
    "kernelspec": {
      "name": "python3",
      "display_name": "Python 3"
    }
  },
  "cells": [
    {
      "cell_type": "code",
      "metadata": {
        "id": "JmFQMN1MRQdH"
      },
      "source": [
        "from requests import Request, Session\n",
        "from requests.exceptions import ConnectionError, Timeout, TooManyRedirects\n",
        "import json\n",
        "import pandas as pd"
      ],
      "execution_count": null,
      "outputs": []
    },
    {
      "cell_type": "code",
      "metadata": {
        "id": "kVUvnK_yRTgR"
      },
      "source": [
        "headers ={'Accepts':'application/json','X-CMC_PRO_API_KEY':'2fecbca0-c3bc-49c1-973f-f61092082db1',}"
      ],
      "execution_count": null,
      "outputs": []
    },
    {
      "cell_type": "code",
      "metadata": {
        "id": "5gKXuhNiRdfv"
      },
      "source": [
        "url ='https://pro-api.coinmarketcap.com/v1/cryptocurrency/listings/latest'\n",
        "parameters = {'start':'1','limit':'5000','convert':'USD'}"
      ],
      "execution_count": null,
      "outputs": []
    },
    {
      "cell_type": "code",
      "metadata": {
        "id": "ioOCcPVWRiAf"
      },
      "source": [
        "session = Session()\n",
        "session.headers.update(headers)"
      ],
      "execution_count": null,
      "outputs": []
    },
    {
      "cell_type": "code",
      "metadata": {
        "id": "a0c74PmvRliK"
      },
      "source": [
        "try:\n",
        "  response = session.get(url, params=parameters)\n",
        "  data_jason = json.loads(response.text)\n",
        "except (ConnectionError, Timeout, TooManyRedirects) as e:\n",
        "  print(e)"
      ],
      "execution_count": null,
      "outputs": []
    },
    {
      "cell_type": "code",
      "metadata": {
        "id": "YxCE8ZfwR3x5"
      },
      "source": [
        "df=pd.DataFrame(data_jason['data'])"
      ],
      "execution_count": null,
      "outputs": []
    },
    {
      "cell_type": "code",
      "metadata": {
        "id": "jmuD8Xq0R7Vd",
        "colab": {
          "base_uri": "https://localhost:8080/"
        },
        "outputId": "eeb8b875-32a8-4e2e-ccad-13c1edfe84b5"
      },
      "source": [
        "df[df.name == 'Bitcoin']['date_added']"
      ],
      "execution_count": null,
      "outputs": [
        {
          "output_type": "execute_result",
          "data": {
            "text/plain": [
              "0    2013-04-28T00:00:00.000Z\n",
              "Name: date_added, dtype: object"
            ]
          },
          "metadata": {
            "tags": []
          },
          "execution_count": 23
        }
      ]
    },
    {
      "cell_type": "code",
      "metadata": {
        "id": "5jszQrsyQfi4"
      },
      "source": [
        "url_2 ='https://pro-api.coinmarketcap.com/v1/fiat/map'\n",
        "parameters_2 = {}"
      ],
      "execution_count": null,
      "outputs": []
    },
    {
      "cell_type": "code",
      "metadata": {
        "id": "e2F2dl_OQoEp"
      },
      "source": [
        "try:\n",
        "  response = session.get(url_2, params=parameters_2)\n",
        "  data_jason_2 = json.loads(response.text)\n",
        "except (ConnectionError, Timeout, TooManyRedirects) as e_2:\n",
        "  print(e_2)"
      ],
      "execution_count": null,
      "outputs": []
    },
    {
      "cell_type": "code",
      "metadata": {
        "id": "SyfeAewiQw5J"
      },
      "source": [
        "df_2=pd.DataFrame(data_jason_2['data'])"
      ],
      "execution_count": null,
      "outputs": []
    },
    {
      "cell_type": "code",
      "metadata": {
        "id": "mi7Gv0RmRHc_",
        "colab": {
          "base_uri": "https://localhost:8080/",
          "height": 80
        },
        "outputId": "36ef2582-2a36-4e79-f508-038b293db859"
      },
      "source": [
        "df_2[df_2.name == 'Chinese Yuan']"
      ],
      "execution_count": null,
      "outputs": [
        {
          "output_type": "execute_result",
          "data": {
            "text/html": [
              "<div>\n",
              "<style scoped>\n",
              "    .dataframe tbody tr th:only-of-type {\n",
              "        vertical-align: middle;\n",
              "    }\n",
              "\n",
              "    .dataframe tbody tr th {\n",
              "        vertical-align: top;\n",
              "    }\n",
              "\n",
              "    .dataframe thead th {\n",
              "        text-align: right;\n",
              "    }\n",
              "</style>\n",
              "<table border=\"1\" class=\"dataframe\">\n",
              "  <thead>\n",
              "    <tr style=\"text-align: right;\">\n",
              "      <th></th>\n",
              "      <th>id</th>\n",
              "      <th>name</th>\n",
              "      <th>sign</th>\n",
              "      <th>symbol</th>\n",
              "    </tr>\n",
              "  </thead>\n",
              "  <tbody>\n",
              "    <tr>\n",
              "      <th>6</th>\n",
              "      <td>2787</td>\n",
              "      <td>Chinese Yuan</td>\n",
              "      <td>¥</td>\n",
              "      <td>CNY</td>\n",
              "    </tr>\n",
              "  </tbody>\n",
              "</table>\n",
              "</div>"
            ],
            "text/plain": [
              "     id          name sign symbol\n",
              "6  2787  Chinese Yuan    ¥    CNY"
            ]
          },
          "metadata": {
            "tags": []
          },
          "execution_count": 21
        }
      ]
    },
    {
      "cell_type": "code",
      "metadata": {
        "id": "rgMGDtdESjWW"
      },
      "source": [
        ""
      ],
      "execution_count": null,
      "outputs": []
    }
  ]
}